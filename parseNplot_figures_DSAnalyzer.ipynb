{
 "cells": [
  {
   "cell_type": "code",
   "execution_count": null,
   "metadata": {
    "ExecuteTime": {
     "end_time": "2021-07-12T12:25:30.663415Z",
     "start_time": "2021-07-12T12:25:30.218135Z"
    }
   },
   "outputs": [],
   "source": [
    "# In[]:\n",
    "import matplotlib.pyplot as plt\n",
    "import pandas as pd\n",
    "import numpy as np\n",
    "from cycler import cycler\n",
    "import os\n",
    "import glob\n",
    "import itertools\n",
    "from pyfiles import parsers"
   ]
  },
  {
   "cell_type": "code",
   "execution_count": null,
   "metadata": {
    "ExecuteTime": {
     "end_time": "2021-07-12T12:25:30.667245Z",
     "start_time": "2021-07-12T12:25:30.664774Z"
    },
    "scrolled": true
   },
   "outputs": [],
   "source": [
    "perf = parsers.perfParser()\n",
    "mem = parsers.memParser()\n",
    "cpu = parsers.cpuParser()\n",
    "io = parsers.ioParser(\"sdc1\")\n",
    "ds = parsers.dsParser()\n",
    "simp = parsers.simpleParser()\n",
    "cache = parsers.cacheParser()\n",
    "gpu = parsers.gpuParser()"
   ]
  },
  {
   "cell_type": "code",
   "execution_count": 3,
   "metadata": {
    "ExecuteTime": {
     "end_time": "2021-07-12T12:25:31.920473Z",
     "start_time": "2021-07-12T12:25:30.669352Z"
    },
    "scrolled": true,
    "tags": []
   },
   "outputs": [
    {
     "name": "stdout",
     "output_type": "stream",
     "text": [
      "['.', 'log', '', 'DDP6GPUInter', 'tfdata', 'Imagenet', 'randaugment', 'resnet50', 'epoch1', 'b1536', 'worker24', 'thread4', '']\n",
      "['.', 'log', '', 'DDP6GPUInter', 'tfdata', 'openimage', 'autoaugment', 'vit-base', 'epoch1', 'b528', 'worker24', 'thread4', '']\n",
      "['.', 'log', '', 'DDP6GPUInter', 'tfdata', 'openimage', 'autoaugment', 'resnet50', 'epoch1', 'b1440', 'worker24', 'thread4', '']\n",
      "['.', 'log', '', 'DDP6GPUInter', 'tfdata', 'openimage', 'default', 'resnet50', 'epoch1', 'b1536', 'worker24', 'thread4', '']\n",
      "['.', 'log', '', 'DDP6GPUInter', 'tfdata', 'openimage', 'randaugment', 'resnet50', 'epoch1', 'b1440', 'worker24', 'thread4', '']\n",
      "['.', 'log', '', 'DDP6GPUInter', 'tfdata', 'openimage', 'randaugment', 'coatnet-0', 'epoch1', 'b720', 'worker24', 'thread4', '']\n",
      "['.', 'log', '', 'DDP6GPUInter', 'GPUonly', 'openimage', 'autoaugment', 'resnet50', 'epoch1', 'b1440', 'worker24', 'thread4', '']\n",
      "['.', 'log', '', 'DDP6GPUInter', 'GPUonly', 'openimage', 'randaugment', 'vit-base', 'epoch1', 'b528', 'worker24', 'thread4', '']\n",
      "['.', 'log', '', 'DDP6GPUInter', 'GPUonly', 'openimage', 'randaugment', 'resnet50', 'epoch1', 'b1536', 'worker24', 'thread4', '']\n",
      "['.', 'log', '', 'DDP6GPUInter', 'GPUonly', 'openimage', 'randaugment', 'resnet50', 'epoch1', 'b768', 'worker24', 'thread4', '']\n",
      "['.', 'log', '', 'DDP6GPUInter', 'GPUonly', 'openimage', 'randaugment', 'resnet50', 'epoch1', 'b1440', 'worker24', 'thread4', '']\n",
      "['.', 'log', '', 'DDP6GPUInter', 'GPUonlyNaive', 'openimage', 'autoaugment', 'vit-base', 'epoch1', 'b528', 'worker24', 'thread4', '']\n",
      "['.', 'log', '', 'DDP6GPUInter', 'GPUonlyNaive', 'openimage', 'autoaugment', 'resnet50', 'epoch1', 'b1440', 'worker24', 'thread4', '']\n",
      "['.', 'log', '', 'DDP6GPUInter', 'GPUonlyNaive', 'openimage', 'autoaugment', 'resnet18', 'epoch1', 'b3000', 'worker24', 'thread4', '']\n",
      "['.', 'log', '', 'DDP6GPUInter', 'GPUonlyNaive', 'openimage', 'randaugment', 'vit-base', 'epoch1', 'b528', 'worker24', 'thread4', '']\n",
      "['.', 'log', '', 'DDP6GPUInter', 'GPUonlyNaive', 'openimage', 'randaugment', 'resnet50', 'epoch1', 'b1536', 'worker24', 'thread4', '']\n",
      "['.', 'log', '', 'DDP6GPUInter', 'GPUonlyNaive', 'openimage', 'randaugment', 'resnet50', 'epoch1', 'b768', 'worker24', 'thread4', '']\n",
      "['.', 'log', '', 'DDP6GPUInter', 'GPUonlyNaive', 'openimage', 'randaugment', 'resnet50', 'epoch1', 'b1440', 'worker24', 'thread4', '']\n",
      "['.', 'log', '', 'DDP6GPUInter', 'GPUonlyNaive', 'openimage', 'randaugment', 'coatnet-0', 'epoch1', 'b648', 'worker24', 'thread4', '']\n",
      "['.', 'log', '', 'DDP6GPUInter', 'GPUonlyNaive', 'openimage', 'randaugment', 'coatnet-0', 'epoch1', 'b720', 'worker24', 'thread4', '']\n",
      "['.', 'log', '', 'DDP6GPUInter', 'GPUonlyNaive', 'openimage', 'randaugment', 'resnet18', 'epoch1', 'b3000', 'worker24', 'thread4', '']\n",
      "['.', 'log', '', 'DDP6GPUInter', 'CPUPolicyGPUDirectAggrOffload', 'synth_inat', 'randaugment', 'resnet50', 'epoch1', 'b1440', 'worker24', 'thread4', '']\n",
      "['.', 'log', '', 'DDP6GPUInter', 'CPUPolicyGPUDirectAggrOffload', 'Imagenet', 'autoaugment', 'vit-base', 'epoch1', 'b528', 'worker24', 'thread4', '']\n",
      "['.', 'log', '', 'DDP6GPUInter', 'CPUPolicyGPUDirectAggrOffload', 'Imagenet', 'autoaugment', 'resnet50', 'epoch1', 'b1440', 'worker24', 'thread4', '']\n",
      "['.', 'log', '', 'DDP6GPUInter', 'CPUPolicyGPUDirectAggrOffload', 'Imagenet', 'autoaugment', 'resnet18', 'epoch1', 'b3000', 'worker24', 'thread4', '']\n",
      "['.', 'log', '', 'DDP6GPUInter', 'CPUPolicyGPUDirectAggrOffload', 'Imagenet', 'randaugment', 'resnet50', 'epoch1', 'b1440', 'worker24', 'thread4', '']\n",
      "['.', 'log', '', 'DDP6GPUInter', 'CPUPolicyGPUDirectAggrOffload', 'openimage', 'autoaugment', 'resnet50', 'epoch1', 'b1440', 'worker24', 'thread4', '']\n",
      "['.', 'log', '', 'DDP6GPUInter', 'CPUPolicyGPUDirectAggrOffload', 'openimage', 'autoaugment', 'resnet18', 'epoch1', 'b3000', 'worker24', 'thread4', '']\n",
      "['.', 'log', '', 'DDP6GPUInter', 'CPUPolicyGPUDirectAggrOffload', 'openimage', 'randaugment', 'vit-base', 'epoch1', 'b528', 'worker24', 'thread4', '']\n",
      "['.', 'log', '', 'DDP6GPUInter', 'CPUPolicyGPUDirectAggrOffload', 'openimage', 'randaugment', 'resnet50', 'epoch1', 'b1440', 'worker24', 'thread4', '']\n",
      "['.', 'log', '', 'DDP6GPUInter', 'CPUPolicyGPUDirectAggrOffload', 'openimage', 'randaugment', 'coatnet-0', 'epoch1', 'b648', 'worker24', 'thread4', '']\n",
      "['.', 'log', '', 'DDP6GPUInter', 'CPUPolicyGPUDirectAggrOffload', 'openimage', 'randaugment', 'resnet18', 'epoch1', 'b3000', 'worker24', 'thread4', '']\n",
      "['.', 'log', '', 'DDP6GPUInter', 'CPUPolicyGPUDirectAggrOffloadSingleSamp', 'synth_inat', 'randaugment', 'resnet50', 'epoch1', 'b1440', 'worker24', 'thread4', '']\n",
      "['.', 'log', '', 'DDP6GPUInter', 'CPUPolicyGPUDirectAggrOffloadSingleSamp', 'openimage', 'randaugment', 'vit-base', 'epoch1', 'b528', 'worker24', 'thread4', '']\n",
      "['.', 'log', '', 'DDP6GPUInter', 'CPUPolicyGPUDirectAggrOffloadSingleSamp', 'openimage', 'randaugment', 'resnet50', 'epoch1', 'b1440', 'worker24', 'thread4', '']\n",
      "['.', 'log', '', 'DDP6GPUInter', 'CPUPolicyGPUDirectAggrOffloadSingleSamp', 'openimage', 'randaugment', 'resnet18', 'epoch1', 'b3000', 'worker24', 'thread4', '']\n",
      "['.', 'log', '', 'DDP6GPUInter', 'CPUPolicyGPUDirectAggrOffloadRefurbish', 'openimage', 'randaugment', 'resnet50', 'epoch1', 'b1440', 'worker24', 'thread4', '']\n",
      "['.', 'log', '', 'DDP6GPUInter', 'CPUPolicyGPUDirectAggrOffloadRefurbish', 'openimage', 'randaugment', 'resnet18', 'epoch1', 'b3000', 'worker24', 'thread4', '']\n",
      "['.', 'log', '', 'DDP6GPUInter', 'CPUPolicyGPUDirectAggrOffloadRefurbish25', 'openimage', 'randaugment', 'resnet18', 'epoch1', 'b3000', 'worker24', 'thread4', '']\n",
      "['.', 'log', '', 'DDP6GPUInter', 'CPUPolicyGPUDirectAggrOffloadRefurbish50', 'openimage', 'randaugment', 'resnet18', 'epoch1', 'b3000', 'worker24', 'thread4', '']\n",
      "['.', 'log', '', 'DDP6GPUInter', 'CPUPolicyGPUDirectAggrOffloadRefurbish100', 'openimage', 'randaugment', 'resnet18', 'epoch1', 'b3000', 'worker24', 'thread4', '']\n"
     ]
    }
   ],
   "source": [
    "perf.parser()\n",
    "perf.total_summary()\n",
    "\n",
    "# perf.total_median_summary()"
   ]
  },
  {
   "cell_type": "code",
   "execution_count": 4,
   "metadata": {},
   "outputs": [
    {
     "name": "stdout",
     "output_type": "stream",
     "text": [
      "{'origin_main_pin': [], 'baseline': ['./log//SINGLE/baseline/sampled_openimage/randaugment/vit-base/epoch1/b88/worker4/thread4/', './log//SINGLE/baseline/sampled_openimage/randaugment/resnet50/epoch1/b240/worker4/thread4/', './log//SINGLE/baseline/sampled_openimage/randaugment/resnet18/epoch1/b500/worker4/thread4/', './log//SINGLE/baseline/sampled_openimage/randaugment/resnet18/epoch1/b240/worker4/thread4/', './log//SINGLE/baseline/openimage/randaugment/resnet50/epoch1/b240/worker4/thread4/'], 'CPUPolicy': [], 'CPUPolicyGPU': [], 'CPUPolicyGPUDirectAggr': ['./log//SINGLE/CPUPolicyGPUDirectAggr/sampled_openimage/randaugment/vit-base/epoch1/b88/worker4/thread4/'], 'dalibaseline': [], 'tfdata': [], 'GPUonly': [], 'GPUonlyNaive': ['./log//SINGLE/GPUonlyNaive/sampled_openimage/randaugment/vit-base/epoch1/b88/worker4/thread4/', './log//SINGLE/GPUonlyNaive/sampled_openimage/randaugment/resnet50/epoch1/b240/worker4/thread4/', './log//SINGLE/GPUonlyNaive/sampled_openimage/randaugment/resnet18/epoch1/b500/worker4/thread4/', './log//SINGLE/GPUonlyNaive/sampled_openimage/randaugment/resnet18/epoch1/b240/worker4/thread4/'], 'CPUPolicyGPUDirectAggrOffload': ['./log//SINGLE/CPUPolicyGPUDirectAggrOffload/sampled_openimage/randaugment/resnet50/epoch1/b240/worker4/thread4/', './log//SINGLE/CPUPolicyGPUDirectAggrOffload/sampled_openimage/randaugment/resnet18/epoch1/b500/worker4/thread4/', './log//SINGLE/CPUPolicyGPUDirectAggrOffload/sampled_openimage/randaugment/resnet18/epoch1/b240/worker4/thread4/', './log//SINGLE/CPUPolicyGPUDirectAggrOffload/openimage/randaugment/resnet50/epoch1/b240/worker4/thread4/'], 'CPUPolicyGPUDirectAggrOffloadSingleSamp': [], 'CPUPolicyGPUDirectAggrOffloadRefurbish': [], 'CPUPolicyGPUDirectAggrOffloadRefurbish25': [], 'CPUPolicyGPUDirectAggrOffloadRefurbish50': [], 'CPUPolicyGPUDirectAggrOffloadRefurbish100': [], 'loadNtrain': [], 'fordebug': ['./log//SINGLE/fordebug/size2/default/resnet34/epoch1/b256/worker4/thread4/', './log//SINGLE/fordebug/size2/default/resnet34/epoch1/b256/worker2/thread4/', './log//SINGLE/fordebug/size2/default/resnet34/epoch1/b256/worker1/thread4/', './log//SINGLE/fordebug/size2/default/resnet34/epoch1/b256/worker8/thread4/']}\n",
      "{'origin_main_pin': [], 'baseline': ['./log//DDP6GPUInter/baseline/synth_inat/randaugment/resnet50/epoch1/b1440/worker24/thread4/', './log//DDP6GPUInter/baseline/Imagenet/autoaugment/vit-base/epoch1/b528/worker24/thread4/', './log//DDP6GPUInter/baseline/Imagenet/autoaugment/resnet50/epoch1/b1440/worker24/thread4/', './log//DDP6GPUInter/baseline/Imagenet/autoaugment/resnet18/epoch1/b3000/worker24/thread4/', './log//DDP6GPUInter/baseline/Imagenet/default/resnet50/epoch2/b1536/worker24/thread4/', './log//DDP6GPUInter/baseline/Imagenet/default/resnet50/epoch1/b1536/worker24/thread4/', './log//DDP6GPUInter/baseline/Imagenet/default/vit/epoch1/b1536/worker24/thread4/', './log//DDP6GPUInter/baseline/Imagenet/randaugment/vit-base/epoch1/b528/worker24/thread4/', './log//DDP6GPUInter/baseline/Imagenet/randaugment/resnet50/epoch1/b1536/worker24/thread4/', './log//DDP6GPUInter/baseline/Imagenet/randaugment/resnet50/epoch1/b1440/worker24/thread4/', './log//DDP6GPUInter/baseline/Imagenet/randaugment/vit/epoch1/b1536/worker24/thread4/', './log//DDP6GPUInter/baseline/openimage/autoaugment/vit-base/epoch1/b528/worker24/thread4/', './log//DDP6GPUInter/baseline/openimage/autoaugment/resnet50/epoch1/b1440/worker24/thread4/', './log//DDP6GPUInter/baseline/openimage/autoaugment/resnet18/epoch1/b3000/worker24/thread4/', './log//DDP6GPUInter/baseline/openimage/randaugment/vit-base/epoch1/b528/worker24/thread4/', './log//DDP6GPUInter/baseline/openimage/randaugment/resnet50/epoch1/b1536/worker24/thread4/', './log//DDP6GPUInter/baseline/openimage/randaugment/resnet50/epoch1/b1440/worker24/thread4/', './log//DDP6GPUInter/baseline/openimage/randaugment/coatnet-0/epoch1/b648/worker24/thread4/', './log//DDP6GPUInter/baseline/openimage/randaugment/resnet18/epoch1/b3000/worker24/thread4/'], 'CPUPolicy': [], 'CPUPolicyGPU': ['./log//DDP6GPUInter/CPUPolicyGPU/openimage/randaugment/resnet18/epoch1/b3000/worker24/thread4/'], 'CPUPolicyGPUDirectAggr': ['./log//DDP6GPUInter/CPUPolicyGPUDirectAggr/Imagenet/randaugment/vit-base/epoch1/b528/worker24/thread4/', './log//DDP6GPUInter/CPUPolicyGPUDirectAggr/openimage/autoaugment/vit-base/epoch1/b528/worker24/thread4/', './log//DDP6GPUInter/CPUPolicyGPUDirectAggr/openimage/randaugment/vit-base/epoch1/b528/worker24/thread4/', './log//DDP6GPUInter/CPUPolicyGPUDirectAggr/openimage/randaugment/resnet50/epoch1/b1440/worker24/thread4/', './log//DDP6GPUInter/CPUPolicyGPUDirectAggr/openimage/randaugment/coatnet-0/epoch1/b648/worker24/thread4/', './log//DDP6GPUInter/CPUPolicyGPUDirectAggr/openimage/randaugment/coatnet-0/epoch1/b720/worker24/thread4/', './log//DDP6GPUInter/CPUPolicyGPUDirectAggr/openimage/randaugment/resnet18/epoch1/b3000/worker24/thread4/'], 'dalibaseline': [], 'tfdata': ['./log//DDP6GPUInter/tfdata/Imagenet/default/resnet50/epoch1/b1536/worker24/thread4/', './log//DDP6GPUInter/tfdata/Imagenet/randaugment/resnet50/epoch1/b1536/worker24/thread4/', './log//DDP6GPUInter/tfdata/openimage/autoaugment/vit-base/epoch1/b528/worker24/thread4/', './log//DDP6GPUInter/tfdata/openimage/autoaugment/resnet50/epoch1/b1440/worker24/thread4/', './log//DDP6GPUInter/tfdata/openimage/default/resnet50/epoch1/b1536/worker24/thread4/', './log//DDP6GPUInter/tfdata/openimage/randaugment/resnet50/epoch1/b1440/worker24/thread4/', './log//DDP6GPUInter/tfdata/openimage/randaugment/coatnet-0/epoch1/b720/worker24/thread4/'], 'GPUonly': ['./log//DDP6GPUInter/GPUonly/openimage/autoaugment/resnet50/epoch1/b1440/worker24/thread4/', './log//DDP6GPUInter/GPUonly/openimage/randaugment/vit-base/epoch1/b528/worker24/thread4/', './log//DDP6GPUInter/GPUonly/openimage/randaugment/resnet50/epoch1/b1536/worker24/thread4/', './log//DDP6GPUInter/GPUonly/openimage/randaugment/resnet50/epoch1/b768/worker24/thread4/', './log//DDP6GPUInter/GPUonly/openimage/randaugment/resnet50/epoch1/b1440/worker24/thread4/'], 'GPUonlyNaive': ['./log//DDP6GPUInter/GPUonlyNaive/openimage/autoaugment/vit-base/epoch1/b528/worker24/thread4/', './log//DDP6GPUInter/GPUonlyNaive/openimage/autoaugment/resnet50/epoch1/b1440/worker24/thread4/', './log//DDP6GPUInter/GPUonlyNaive/openimage/autoaugment/resnet18/epoch1/b3000/worker24/thread4/', './log//DDP6GPUInter/GPUonlyNaive/openimage/randaugment/vit-base/epoch1/b528/worker24/thread4/', './log//DDP6GPUInter/GPUonlyNaive/openimage/randaugment/resnet50/epoch1/b1536/worker24/thread4/', './log//DDP6GPUInter/GPUonlyNaive/openimage/randaugment/resnet50/epoch1/b768/worker24/thread4/', './log//DDP6GPUInter/GPUonlyNaive/openimage/randaugment/resnet50/epoch1/b1440/worker24/thread4/', './log//DDP6GPUInter/GPUonlyNaive/openimage/randaugment/coatnet-0/epoch1/b648/worker24/thread4/', './log//DDP6GPUInter/GPUonlyNaive/openimage/randaugment/coatnet-0/epoch1/b720/worker24/thread4/', './log//DDP6GPUInter/GPUonlyNaive/openimage/randaugment/resnet18/epoch1/b3000/worker24/thread4/'], 'CPUPolicyGPUDirectAggrOffload': ['./log//DDP6GPUInter/CPUPolicyGPUDirectAggrOffload/synth_inat/randaugment/resnet50/epoch1/b1440/worker24/thread4/', './log//DDP6GPUInter/CPUPolicyGPUDirectAggrOffload/Imagenet/autoaugment/vit-base/epoch1/b528/worker24/thread4/', './log//DDP6GPUInter/CPUPolicyGPUDirectAggrOffload/Imagenet/autoaugment/resnet50/epoch1/b1440/worker24/thread4/', './log//DDP6GPUInter/CPUPolicyGPUDirectAggrOffload/Imagenet/autoaugment/resnet18/epoch1/b3000/worker24/thread4/', './log//DDP6GPUInter/CPUPolicyGPUDirectAggrOffload/Imagenet/randaugment/resnet50/epoch1/b1440/worker24/thread4/', './log//DDP6GPUInter/CPUPolicyGPUDirectAggrOffload/openimage/autoaugment/resnet50/epoch1/b1440/worker24/thread4/', './log//DDP6GPUInter/CPUPolicyGPUDirectAggrOffload/openimage/autoaugment/resnet18/epoch1/b3000/worker24/thread4/', './log//DDP6GPUInter/CPUPolicyGPUDirectAggrOffload/openimage/randaugment/vit-base/epoch1/b528/worker24/thread4/', './log//DDP6GPUInter/CPUPolicyGPUDirectAggrOffload/openimage/randaugment/resnet50/epoch1/b1440/worker24/thread4/', './log//DDP6GPUInter/CPUPolicyGPUDirectAggrOffload/openimage/randaugment/coatnet-0/epoch1/b648/worker24/thread4/', './log//DDP6GPUInter/CPUPolicyGPUDirectAggrOffload/openimage/randaugment/resnet18/epoch1/b3000/worker24/thread4/'], 'CPUPolicyGPUDirectAggrOffloadSingleSamp': ['./log//DDP6GPUInter/CPUPolicyGPUDirectAggrOffloadSingleSamp/synth_inat/randaugment/resnet50/epoch1/b1440/worker24/thread4/', './log//DDP6GPUInter/CPUPolicyGPUDirectAggrOffloadSingleSamp/openimage/randaugment/vit-base/epoch1/b528/worker24/thread4/', './log//DDP6GPUInter/CPUPolicyGPUDirectAggrOffloadSingleSamp/openimage/randaugment/resnet50/epoch1/b1440/worker24/thread4/', './log//DDP6GPUInter/CPUPolicyGPUDirectAggrOffloadSingleSamp/openimage/randaugment/resnet18/epoch1/b3000/worker24/thread4/'], 'CPUPolicyGPUDirectAggrOffloadRefurbish': ['./log//DDP6GPUInter/CPUPolicyGPUDirectAggrOffloadRefurbish/openimage/randaugment/resnet50/epoch1/b1440/worker24/thread4/', './log//DDP6GPUInter/CPUPolicyGPUDirectAggrOffloadRefurbish/openimage/randaugment/resnet18/epoch1/b3000/worker24/thread4/'], 'CPUPolicyGPUDirectAggrOffloadRefurbish25': ['./log//DDP6GPUInter/CPUPolicyGPUDirectAggrOffloadRefurbish25/openimage/randaugment/resnet18/epoch1/b3000/worker24/thread4/'], 'CPUPolicyGPUDirectAggrOffloadRefurbish50': ['./log//DDP6GPUInter/CPUPolicyGPUDirectAggrOffloadRefurbish50/openimage/randaugment/resnet18/epoch1/b3000/worker24/thread4/'], 'CPUPolicyGPUDirectAggrOffloadRefurbish100': ['./log//DDP6GPUInter/CPUPolicyGPUDirectAggrOffloadRefurbish100/openimage/randaugment/resnet18/epoch1/b3000/worker24/thread4/'], 'loadNtrain': [], 'fordebug': []}\n"
     ]
    }
   ],
   "source": [
    "perf.delay_summary()"
   ]
  },
  {
   "cell_type": "code",
   "execution_count": 5,
   "metadata": {},
   "outputs": [
    {
     "name": "stdout",
     "output_type": "stream",
     "text": [
      "{'origin_main_pin': [], 'baseline': ['./log//SINGLE/baseline/sampled_openimage/randaugment/vit-base/epoch1/b88/worker4/thread4/', './log//SINGLE/baseline/sampled_openimage/randaugment/resnet50/epoch1/b240/worker4/thread4/', './log//SINGLE/baseline/sampled_openimage/randaugment/resnet18/epoch1/b500/worker4/thread4/', './log//SINGLE/baseline/sampled_openimage/randaugment/resnet18/epoch1/b240/worker4/thread4/', './log//SINGLE/baseline/openimage/randaugment/resnet50/epoch1/b240/worker4/thread4/'], 'CPUPolicy': [], 'CPUPolicyGPU': [], 'CPUPolicyGPUDirectAggr': ['./log//SINGLE/CPUPolicyGPUDirectAggr/sampled_openimage/randaugment/vit-base/epoch1/b88/worker4/thread4/'], 'dalibaseline': [], 'tfdata': [], 'GPUonly': [], 'GPUonlyNaive': ['./log//SINGLE/GPUonlyNaive/sampled_openimage/randaugment/vit-base/epoch1/b88/worker4/thread4/', './log//SINGLE/GPUonlyNaive/sampled_openimage/randaugment/resnet50/epoch1/b240/worker4/thread4/', './log//SINGLE/GPUonlyNaive/sampled_openimage/randaugment/resnet18/epoch1/b500/worker4/thread4/', './log//SINGLE/GPUonlyNaive/sampled_openimage/randaugment/resnet18/epoch1/b240/worker4/thread4/'], 'CPUPolicyGPUDirectAggrOffload': ['./log//SINGLE/CPUPolicyGPUDirectAggrOffload/sampled_openimage/randaugment/resnet50/epoch1/b240/worker4/thread4/', './log//SINGLE/CPUPolicyGPUDirectAggrOffload/sampled_openimage/randaugment/resnet18/epoch1/b500/worker4/thread4/', './log//SINGLE/CPUPolicyGPUDirectAggrOffload/sampled_openimage/randaugment/resnet18/epoch1/b240/worker4/thread4/', './log//SINGLE/CPUPolicyGPUDirectAggrOffload/openimage/randaugment/resnet50/epoch1/b240/worker4/thread4/'], 'CPUPolicyGPUDirectAggrOffloadSingleSamp': [], 'CPUPolicyGPUDirectAggrOffloadRefurbish': [], 'CPUPolicyGPUDirectAggrOffloadRefurbish25': [], 'CPUPolicyGPUDirectAggrOffloadRefurbish50': [], 'CPUPolicyGPUDirectAggrOffloadRefurbish100': [], 'loadNtrain': [], 'fordebug': ['./log//SINGLE/fordebug/size2/default/resnet34/epoch1/b256/worker4/thread4/', './log//SINGLE/fordebug/size2/default/resnet34/epoch1/b256/worker2/thread4/', './log//SINGLE/fordebug/size2/default/resnet34/epoch1/b256/worker1/thread4/', './log//SINGLE/fordebug/size2/default/resnet34/epoch1/b256/worker8/thread4/']}\n",
      "{'origin_main_pin': [], 'baseline': ['./log//DDP6GPUInter/baseline/synth_inat/randaugment/resnet50/epoch1/b1440/worker24/thread4/', './log//DDP6GPUInter/baseline/Imagenet/autoaugment/vit-base/epoch1/b528/worker24/thread4/', './log//DDP6GPUInter/baseline/Imagenet/autoaugment/resnet50/epoch1/b1440/worker24/thread4/', './log//DDP6GPUInter/baseline/Imagenet/autoaugment/resnet18/epoch1/b3000/worker24/thread4/', './log//DDP6GPUInter/baseline/Imagenet/default/resnet50/epoch2/b1536/worker24/thread4/', './log//DDP6GPUInter/baseline/Imagenet/default/resnet50/epoch1/b1536/worker24/thread4/', './log//DDP6GPUInter/baseline/Imagenet/default/vit/epoch1/b1536/worker24/thread4/', './log//DDP6GPUInter/baseline/Imagenet/randaugment/vit-base/epoch1/b528/worker24/thread4/', './log//DDP6GPUInter/baseline/Imagenet/randaugment/resnet50/epoch1/b1536/worker24/thread4/', './log//DDP6GPUInter/baseline/Imagenet/randaugment/resnet50/epoch1/b1440/worker24/thread4/', './log//DDP6GPUInter/baseline/Imagenet/randaugment/vit/epoch1/b1536/worker24/thread4/', './log//DDP6GPUInter/baseline/openimage/autoaugment/vit-base/epoch1/b528/worker24/thread4/', './log//DDP6GPUInter/baseline/openimage/autoaugment/resnet50/epoch1/b1440/worker24/thread4/', './log//DDP6GPUInter/baseline/openimage/autoaugment/resnet18/epoch1/b3000/worker24/thread4/', './log//DDP6GPUInter/baseline/openimage/randaugment/vit-base/epoch1/b528/worker24/thread4/', './log//DDP6GPUInter/baseline/openimage/randaugment/resnet50/epoch1/b1536/worker24/thread4/', './log//DDP6GPUInter/baseline/openimage/randaugment/resnet50/epoch1/b1440/worker24/thread4/', './log//DDP6GPUInter/baseline/openimage/randaugment/coatnet-0/epoch1/b648/worker24/thread4/', './log//DDP6GPUInter/baseline/openimage/randaugment/resnet18/epoch1/b3000/worker24/thread4/'], 'CPUPolicy': [], 'CPUPolicyGPU': ['./log//DDP6GPUInter/CPUPolicyGPU/openimage/randaugment/resnet18/epoch1/b3000/worker24/thread4/'], 'CPUPolicyGPUDirectAggr': ['./log//DDP6GPUInter/CPUPolicyGPUDirectAggr/Imagenet/randaugment/vit-base/epoch1/b528/worker24/thread4/', './log//DDP6GPUInter/CPUPolicyGPUDirectAggr/openimage/autoaugment/vit-base/epoch1/b528/worker24/thread4/', './log//DDP6GPUInter/CPUPolicyGPUDirectAggr/openimage/randaugment/vit-base/epoch1/b528/worker24/thread4/', './log//DDP6GPUInter/CPUPolicyGPUDirectAggr/openimage/randaugment/resnet50/epoch1/b1440/worker24/thread4/', './log//DDP6GPUInter/CPUPolicyGPUDirectAggr/openimage/randaugment/coatnet-0/epoch1/b648/worker24/thread4/', './log//DDP6GPUInter/CPUPolicyGPUDirectAggr/openimage/randaugment/coatnet-0/epoch1/b720/worker24/thread4/', './log//DDP6GPUInter/CPUPolicyGPUDirectAggr/openimage/randaugment/resnet18/epoch1/b3000/worker24/thread4/'], 'dalibaseline': [], 'tfdata': ['./log//DDP6GPUInter/tfdata/Imagenet/default/resnet50/epoch1/b1536/worker24/thread4/', './log//DDP6GPUInter/tfdata/Imagenet/randaugment/resnet50/epoch1/b1536/worker24/thread4/', './log//DDP6GPUInter/tfdata/openimage/autoaugment/vit-base/epoch1/b528/worker24/thread4/', './log//DDP6GPUInter/tfdata/openimage/autoaugment/resnet50/epoch1/b1440/worker24/thread4/', './log//DDP6GPUInter/tfdata/openimage/default/resnet50/epoch1/b1536/worker24/thread4/', './log//DDP6GPUInter/tfdata/openimage/randaugment/resnet50/epoch1/b1440/worker24/thread4/', './log//DDP6GPUInter/tfdata/openimage/randaugment/coatnet-0/epoch1/b720/worker24/thread4/'], 'GPUonly': ['./log//DDP6GPUInter/GPUonly/openimage/autoaugment/resnet50/epoch1/b1440/worker24/thread4/', './log//DDP6GPUInter/GPUonly/openimage/randaugment/vit-base/epoch1/b528/worker24/thread4/', './log//DDP6GPUInter/GPUonly/openimage/randaugment/resnet50/epoch1/b1536/worker24/thread4/', './log//DDP6GPUInter/GPUonly/openimage/randaugment/resnet50/epoch1/b768/worker24/thread4/', './log//DDP6GPUInter/GPUonly/openimage/randaugment/resnet50/epoch1/b1440/worker24/thread4/'], 'GPUonlyNaive': ['./log//DDP6GPUInter/GPUonlyNaive/openimage/autoaugment/vit-base/epoch1/b528/worker24/thread4/', './log//DDP6GPUInter/GPUonlyNaive/openimage/autoaugment/resnet50/epoch1/b1440/worker24/thread4/', './log//DDP6GPUInter/GPUonlyNaive/openimage/autoaugment/resnet18/epoch1/b3000/worker24/thread4/', './log//DDP6GPUInter/GPUonlyNaive/openimage/randaugment/vit-base/epoch1/b528/worker24/thread4/', './log//DDP6GPUInter/GPUonlyNaive/openimage/randaugment/resnet50/epoch1/b1536/worker24/thread4/', './log//DDP6GPUInter/GPUonlyNaive/openimage/randaugment/resnet50/epoch1/b768/worker24/thread4/', './log//DDP6GPUInter/GPUonlyNaive/openimage/randaugment/resnet50/epoch1/b1440/worker24/thread4/', './log//DDP6GPUInter/GPUonlyNaive/openimage/randaugment/coatnet-0/epoch1/b648/worker24/thread4/', './log//DDP6GPUInter/GPUonlyNaive/openimage/randaugment/coatnet-0/epoch1/b720/worker24/thread4/', './log//DDP6GPUInter/GPUonlyNaive/openimage/randaugment/resnet18/epoch1/b3000/worker24/thread4/'], 'CPUPolicyGPUDirectAggrOffload': ['./log//DDP6GPUInter/CPUPolicyGPUDirectAggrOffload/synth_inat/randaugment/resnet50/epoch1/b1440/worker24/thread4/', './log//DDP6GPUInter/CPUPolicyGPUDirectAggrOffload/Imagenet/autoaugment/vit-base/epoch1/b528/worker24/thread4/', './log//DDP6GPUInter/CPUPolicyGPUDirectAggrOffload/Imagenet/autoaugment/resnet50/epoch1/b1440/worker24/thread4/', './log//DDP6GPUInter/CPUPolicyGPUDirectAggrOffload/Imagenet/autoaugment/resnet18/epoch1/b3000/worker24/thread4/', './log//DDP6GPUInter/CPUPolicyGPUDirectAggrOffload/Imagenet/randaugment/resnet50/epoch1/b1440/worker24/thread4/', './log//DDP6GPUInter/CPUPolicyGPUDirectAggrOffload/openimage/autoaugment/resnet50/epoch1/b1440/worker24/thread4/', './log//DDP6GPUInter/CPUPolicyGPUDirectAggrOffload/openimage/autoaugment/resnet18/epoch1/b3000/worker24/thread4/', './log//DDP6GPUInter/CPUPolicyGPUDirectAggrOffload/openimage/randaugment/vit-base/epoch1/b528/worker24/thread4/', './log//DDP6GPUInter/CPUPolicyGPUDirectAggrOffload/openimage/randaugment/resnet50/epoch1/b1440/worker24/thread4/', './log//DDP6GPUInter/CPUPolicyGPUDirectAggrOffload/openimage/randaugment/coatnet-0/epoch1/b648/worker24/thread4/', './log//DDP6GPUInter/CPUPolicyGPUDirectAggrOffload/openimage/randaugment/resnet18/epoch1/b3000/worker24/thread4/'], 'CPUPolicyGPUDirectAggrOffloadSingleSamp': ['./log//DDP6GPUInter/CPUPolicyGPUDirectAggrOffloadSingleSamp/synth_inat/randaugment/resnet50/epoch1/b1440/worker24/thread4/', './log//DDP6GPUInter/CPUPolicyGPUDirectAggrOffloadSingleSamp/openimage/randaugment/vit-base/epoch1/b528/worker24/thread4/', './log//DDP6GPUInter/CPUPolicyGPUDirectAggrOffloadSingleSamp/openimage/randaugment/resnet50/epoch1/b1440/worker24/thread4/', './log//DDP6GPUInter/CPUPolicyGPUDirectAggrOffloadSingleSamp/openimage/randaugment/resnet18/epoch1/b3000/worker24/thread4/'], 'CPUPolicyGPUDirectAggrOffloadRefurbish': ['./log//DDP6GPUInter/CPUPolicyGPUDirectAggrOffloadRefurbish/openimage/randaugment/resnet50/epoch1/b1440/worker24/thread4/', './log//DDP6GPUInter/CPUPolicyGPUDirectAggrOffloadRefurbish/openimage/randaugment/resnet18/epoch1/b3000/worker24/thread4/'], 'CPUPolicyGPUDirectAggrOffloadRefurbish25': ['./log//DDP6GPUInter/CPUPolicyGPUDirectAggrOffloadRefurbish25/openimage/randaugment/resnet18/epoch1/b3000/worker24/thread4/'], 'CPUPolicyGPUDirectAggrOffloadRefurbish50': ['./log//DDP6GPUInter/CPUPolicyGPUDirectAggrOffloadRefurbish50/openimage/randaugment/resnet18/epoch1/b3000/worker24/thread4/'], 'CPUPolicyGPUDirectAggrOffloadRefurbish100': ['./log//DDP6GPUInter/CPUPolicyGPUDirectAggrOffloadRefurbish100/openimage/randaugment/resnet18/epoch1/b3000/worker24/thread4/'], 'loadNtrain': [], 'fordebug': []}\n",
      "{'origin_main_pin': [], 'baseline': ['./log//SINGLE/baseline/sampled_openimage/randaugment/vit-base/epoch1/b88/worker4/thread4/', './log//SINGLE/baseline/sampled_openimage/randaugment/resnet50/epoch1/b240/worker4/thread4/', './log//SINGLE/baseline/sampled_openimage/randaugment/resnet18/epoch1/b500/worker4/thread4/', './log//SINGLE/baseline/sampled_openimage/randaugment/resnet18/epoch1/b240/worker4/thread4/', './log//SINGLE/baseline/openimage/randaugment/resnet50/epoch1/b240/worker4/thread4/'], 'CPUPolicy': [], 'CPUPolicyGPU': [], 'CPUPolicyGPUDirectAggr': ['./log//SINGLE/CPUPolicyGPUDirectAggr/sampled_openimage/randaugment/vit-base/epoch1/b88/worker4/thread4/'], 'dalibaseline': [], 'tfdata': [], 'GPUonly': [], 'GPUonlyNaive': ['./log//SINGLE/GPUonlyNaive/sampled_openimage/randaugment/vit-base/epoch1/b88/worker4/thread4/', './log//SINGLE/GPUonlyNaive/sampled_openimage/randaugment/resnet50/epoch1/b240/worker4/thread4/', './log//SINGLE/GPUonlyNaive/sampled_openimage/randaugment/resnet18/epoch1/b500/worker4/thread4/', './log//SINGLE/GPUonlyNaive/sampled_openimage/randaugment/resnet18/epoch1/b240/worker4/thread4/'], 'CPUPolicyGPUDirectAggrOffload': ['./log//SINGLE/CPUPolicyGPUDirectAggrOffload/sampled_openimage/randaugment/resnet50/epoch1/b240/worker4/thread4/', './log//SINGLE/CPUPolicyGPUDirectAggrOffload/sampled_openimage/randaugment/resnet18/epoch1/b500/worker4/thread4/', './log//SINGLE/CPUPolicyGPUDirectAggrOffload/sampled_openimage/randaugment/resnet18/epoch1/b240/worker4/thread4/', './log//SINGLE/CPUPolicyGPUDirectAggrOffload/openimage/randaugment/resnet50/epoch1/b240/worker4/thread4/'], 'CPUPolicyGPUDirectAggrOffloadSingleSamp': [], 'CPUPolicyGPUDirectAggrOffloadRefurbish': [], 'CPUPolicyGPUDirectAggrOffloadRefurbish25': [], 'CPUPolicyGPUDirectAggrOffloadRefurbish50': [], 'CPUPolicyGPUDirectAggrOffloadRefurbish100': [], 'loadNtrain': [], 'fordebug': ['./log//SINGLE/fordebug/size2/default/resnet34/epoch1/b256/worker4/thread4/', './log//SINGLE/fordebug/size2/default/resnet34/epoch1/b256/worker2/thread4/', './log//SINGLE/fordebug/size2/default/resnet34/epoch1/b256/worker1/thread4/', './log//SINGLE/fordebug/size2/default/resnet34/epoch1/b256/worker8/thread4/']}\n",
      "{'origin_main_pin': [], 'baseline': ['./log//DDP6GPUInter/baseline/synth_inat/randaugment/resnet50/epoch1/b1440/worker24/thread4/', './log//DDP6GPUInter/baseline/Imagenet/autoaugment/vit-base/epoch1/b528/worker24/thread4/', './log//DDP6GPUInter/baseline/Imagenet/autoaugment/resnet50/epoch1/b1440/worker24/thread4/', './log//DDP6GPUInter/baseline/Imagenet/autoaugment/resnet18/epoch1/b3000/worker24/thread4/', './log//DDP6GPUInter/baseline/Imagenet/default/resnet50/epoch2/b1536/worker24/thread4/', './log//DDP6GPUInter/baseline/Imagenet/default/resnet50/epoch1/b1536/worker24/thread4/', './log//DDP6GPUInter/baseline/Imagenet/default/vit/epoch1/b1536/worker24/thread4/', './log//DDP6GPUInter/baseline/Imagenet/randaugment/vit-base/epoch1/b528/worker24/thread4/', './log//DDP6GPUInter/baseline/Imagenet/randaugment/resnet50/epoch1/b1536/worker24/thread4/', './log//DDP6GPUInter/baseline/Imagenet/randaugment/resnet50/epoch1/b1440/worker24/thread4/', './log//DDP6GPUInter/baseline/Imagenet/randaugment/vit/epoch1/b1536/worker24/thread4/', './log//DDP6GPUInter/baseline/openimage/autoaugment/vit-base/epoch1/b528/worker24/thread4/', './log//DDP6GPUInter/baseline/openimage/autoaugment/resnet50/epoch1/b1440/worker24/thread4/', './log//DDP6GPUInter/baseline/openimage/autoaugment/resnet18/epoch1/b3000/worker24/thread4/', './log//DDP6GPUInter/baseline/openimage/randaugment/vit-base/epoch1/b528/worker24/thread4/', './log//DDP6GPUInter/baseline/openimage/randaugment/resnet50/epoch1/b1536/worker24/thread4/', './log//DDP6GPUInter/baseline/openimage/randaugment/resnet50/epoch1/b1440/worker24/thread4/', './log//DDP6GPUInter/baseline/openimage/randaugment/coatnet-0/epoch1/b648/worker24/thread4/', './log//DDP6GPUInter/baseline/openimage/randaugment/resnet18/epoch1/b3000/worker24/thread4/'], 'CPUPolicy': [], 'CPUPolicyGPU': ['./log//DDP6GPUInter/CPUPolicyGPU/openimage/randaugment/resnet18/epoch1/b3000/worker24/thread4/'], 'CPUPolicyGPUDirectAggr': ['./log//DDP6GPUInter/CPUPolicyGPUDirectAggr/Imagenet/randaugment/vit-base/epoch1/b528/worker24/thread4/', './log//DDP6GPUInter/CPUPolicyGPUDirectAggr/openimage/autoaugment/vit-base/epoch1/b528/worker24/thread4/', './log//DDP6GPUInter/CPUPolicyGPUDirectAggr/openimage/randaugment/vit-base/epoch1/b528/worker24/thread4/', './log//DDP6GPUInter/CPUPolicyGPUDirectAggr/openimage/randaugment/resnet50/epoch1/b1440/worker24/thread4/', './log//DDP6GPUInter/CPUPolicyGPUDirectAggr/openimage/randaugment/coatnet-0/epoch1/b648/worker24/thread4/', './log//DDP6GPUInter/CPUPolicyGPUDirectAggr/openimage/randaugment/coatnet-0/epoch1/b720/worker24/thread4/', './log//DDP6GPUInter/CPUPolicyGPUDirectAggr/openimage/randaugment/resnet18/epoch1/b3000/worker24/thread4/'], 'dalibaseline': [], 'tfdata': ['./log//DDP6GPUInter/tfdata/Imagenet/default/resnet50/epoch1/b1536/worker24/thread4/', './log//DDP6GPUInter/tfdata/Imagenet/randaugment/resnet50/epoch1/b1536/worker24/thread4/', './log//DDP6GPUInter/tfdata/openimage/autoaugment/vit-base/epoch1/b528/worker24/thread4/', './log//DDP6GPUInter/tfdata/openimage/autoaugment/resnet50/epoch1/b1440/worker24/thread4/', './log//DDP6GPUInter/tfdata/openimage/default/resnet50/epoch1/b1536/worker24/thread4/', './log//DDP6GPUInter/tfdata/openimage/randaugment/resnet50/epoch1/b1440/worker24/thread4/', './log//DDP6GPUInter/tfdata/openimage/randaugment/coatnet-0/epoch1/b720/worker24/thread4/'], 'GPUonly': ['./log//DDP6GPUInter/GPUonly/openimage/autoaugment/resnet50/epoch1/b1440/worker24/thread4/', './log//DDP6GPUInter/GPUonly/openimage/randaugment/vit-base/epoch1/b528/worker24/thread4/', './log//DDP6GPUInter/GPUonly/openimage/randaugment/resnet50/epoch1/b1536/worker24/thread4/', './log//DDP6GPUInter/GPUonly/openimage/randaugment/resnet50/epoch1/b768/worker24/thread4/', './log//DDP6GPUInter/GPUonly/openimage/randaugment/resnet50/epoch1/b1440/worker24/thread4/'], 'GPUonlyNaive': ['./log//DDP6GPUInter/GPUonlyNaive/openimage/autoaugment/vit-base/epoch1/b528/worker24/thread4/', './log//DDP6GPUInter/GPUonlyNaive/openimage/autoaugment/resnet50/epoch1/b1440/worker24/thread4/', './log//DDP6GPUInter/GPUonlyNaive/openimage/autoaugment/resnet18/epoch1/b3000/worker24/thread4/', './log//DDP6GPUInter/GPUonlyNaive/openimage/randaugment/vit-base/epoch1/b528/worker24/thread4/', './log//DDP6GPUInter/GPUonlyNaive/openimage/randaugment/resnet50/epoch1/b1536/worker24/thread4/', './log//DDP6GPUInter/GPUonlyNaive/openimage/randaugment/resnet50/epoch1/b768/worker24/thread4/', './log//DDP6GPUInter/GPUonlyNaive/openimage/randaugment/resnet50/epoch1/b1440/worker24/thread4/', './log//DDP6GPUInter/GPUonlyNaive/openimage/randaugment/coatnet-0/epoch1/b648/worker24/thread4/', './log//DDP6GPUInter/GPUonlyNaive/openimage/randaugment/coatnet-0/epoch1/b720/worker24/thread4/', './log//DDP6GPUInter/GPUonlyNaive/openimage/randaugment/resnet18/epoch1/b3000/worker24/thread4/'], 'CPUPolicyGPUDirectAggrOffload': ['./log//DDP6GPUInter/CPUPolicyGPUDirectAggrOffload/synth_inat/randaugment/resnet50/epoch1/b1440/worker24/thread4/', './log//DDP6GPUInter/CPUPolicyGPUDirectAggrOffload/Imagenet/autoaugment/vit-base/epoch1/b528/worker24/thread4/', './log//DDP6GPUInter/CPUPolicyGPUDirectAggrOffload/Imagenet/autoaugment/resnet50/epoch1/b1440/worker24/thread4/', './log//DDP6GPUInter/CPUPolicyGPUDirectAggrOffload/Imagenet/autoaugment/resnet18/epoch1/b3000/worker24/thread4/', './log//DDP6GPUInter/CPUPolicyGPUDirectAggrOffload/Imagenet/randaugment/resnet50/epoch1/b1440/worker24/thread4/', './log//DDP6GPUInter/CPUPolicyGPUDirectAggrOffload/openimage/autoaugment/resnet50/epoch1/b1440/worker24/thread4/', './log//DDP6GPUInter/CPUPolicyGPUDirectAggrOffload/openimage/autoaugment/resnet18/epoch1/b3000/worker24/thread4/', './log//DDP6GPUInter/CPUPolicyGPUDirectAggrOffload/openimage/randaugment/vit-base/epoch1/b528/worker24/thread4/', './log//DDP6GPUInter/CPUPolicyGPUDirectAggrOffload/openimage/randaugment/resnet50/epoch1/b1440/worker24/thread4/', './log//DDP6GPUInter/CPUPolicyGPUDirectAggrOffload/openimage/randaugment/coatnet-0/epoch1/b648/worker24/thread4/', './log//DDP6GPUInter/CPUPolicyGPUDirectAggrOffload/openimage/randaugment/resnet18/epoch1/b3000/worker24/thread4/'], 'CPUPolicyGPUDirectAggrOffloadSingleSamp': ['./log//DDP6GPUInter/CPUPolicyGPUDirectAggrOffloadSingleSamp/synth_inat/randaugment/resnet50/epoch1/b1440/worker24/thread4/', './log//DDP6GPUInter/CPUPolicyGPUDirectAggrOffloadSingleSamp/openimage/randaugment/vit-base/epoch1/b528/worker24/thread4/', './log//DDP6GPUInter/CPUPolicyGPUDirectAggrOffloadSingleSamp/openimage/randaugment/resnet50/epoch1/b1440/worker24/thread4/', './log//DDP6GPUInter/CPUPolicyGPUDirectAggrOffloadSingleSamp/openimage/randaugment/resnet18/epoch1/b3000/worker24/thread4/'], 'CPUPolicyGPUDirectAggrOffloadRefurbish': ['./log//DDP6GPUInter/CPUPolicyGPUDirectAggrOffloadRefurbish/openimage/randaugment/resnet50/epoch1/b1440/worker24/thread4/', './log//DDP6GPUInter/CPUPolicyGPUDirectAggrOffloadRefurbish/openimage/randaugment/resnet18/epoch1/b3000/worker24/thread4/'], 'CPUPolicyGPUDirectAggrOffloadRefurbish25': ['./log//DDP6GPUInter/CPUPolicyGPUDirectAggrOffloadRefurbish25/openimage/randaugment/resnet18/epoch1/b3000/worker24/thread4/'], 'CPUPolicyGPUDirectAggrOffloadRefurbish50': ['./log//DDP6GPUInter/CPUPolicyGPUDirectAggrOffloadRefurbish50/openimage/randaugment/resnet18/epoch1/b3000/worker24/thread4/'], 'CPUPolicyGPUDirectAggrOffloadRefurbish100': ['./log//DDP6GPUInter/CPUPolicyGPUDirectAggrOffloadRefurbish100/openimage/randaugment/resnet18/epoch1/b3000/worker24/thread4/'], 'loadNtrain': [], 'fordebug': []}\n"
     ]
    }
   ],
   "source": [
    "gpu.parser()\n",
    "gpu.total_summary()"
   ]
  },
  {
   "cell_type": "code",
   "execution_count": 6,
   "metadata": {
    "ExecuteTime": {
     "end_time": "2021-07-12T12:25:31.921769Z",
     "start_time": "2021-07-12T12:25:29.847Z"
    },
    "scrolled": true
   },
   "outputs": [],
   "source": [
    "if any(\"FULLTRACE\" in s for s in parsers.parsePackage.trainTypeSet):\n",
    "#     dsplotter = parsers.dsPlotter()\n",
    "#     simp.parser()\n",
    "    simp.parser()\n",
    "    simp.lifetime_parser()\n",
    "    simp.total_summary()\n",
    "\n",
    "    \n",
    "    lifetime = parsers.batchLifeTimePlotter()    \n",
    "    dsplotter = parsers.workerFetchPlotter()\n",
    "    dscdfplotter = parsers.workerFetchCdfPlotter()\n",
    "    augplotter = parsers.AugmentcdfPlotter()\n",
    "    delayplotter = parsers.delaycdfPlotter()\n",
    "    \n",
    "    \n",
    "    parsers.plotWrapper(typedir=\"simp\", file_suffix=\"simp\",\n",
    "                        parser=simp, plotter=dsplotter)\n",
    "#     parsers.plotWrapper(typedir=\"simp\", file_suffix=\"simp\", plotter=dscdfplotter)\n",
    "#     parsers.plotWrapper(typedir=\"simp\", file_suffix=\"simp_split\", plotter=augplotter)\n",
    "#     parsers.plotWrapper(file_suffix=f'_delayedtime', plotter=delayplotter)\n",
    "    \n",
    "#     parsers.plotWrapper(plotter=lifetime, file_suffix=f'batchlifetime')    \n",
    "#     datapointPlotter\n",
    "#     parsers.plotWrapper(plotter=itercdf, file_suffix=f'thread0')\n",
    "#     test_log_dir=f\"../../log/test/SINGLEFULLTRACE/*/*/*/*/*/*/*/*/\"\n",
    "#     parsers.plotWrapper(typedir=test_log_dir, file_suffix=\"simp\",\n",
    "#                         parser=simp)"
   ]
  },
  {
   "cell_type": "code",
   "execution_count": 7,
   "metadata": {
    "ExecuteTime": {
     "end_time": "2021-07-12T12:25:31.922309Z",
     "start_time": "2021-07-12T12:25:29.849Z"
    },
    "tags": []
   },
   "outputs": [],
   "source": [
    "# perfhist = parsers.perfhistPlotter()\n",
    "\n",
    "# parsers.plotWrapper(typedir=\"perf\", file_suffix=\"perf.hist.*\", extension_suffix=\"\",\n",
    "#                     parser=None, plotter=perfhist)\n",
    "\n",
    "# itercdf = parsers.itercdfPlotter()\n",
    "# parsers.plotWrapper(plotter=itercdf, file_suffix=f'*_thread8')"
   ]
  },
  {
   "cell_type": "code",
   "execution_count": 8,
   "metadata": {
    "ExecuteTime": {
     "end_time": "2021-07-12T12:25:49.173331Z",
     "start_time": "2021-07-12T12:25:39.494191Z"
    },
    "scrolled": true
   },
   "outputs": [
    {
     "name": "stderr",
     "output_type": "stream",
     "text": [
      "/home/chanho/anaconda3/envs/torchtest/lib/python3.8/site-packages/numpy/lib/histograms.py:905: RuntimeWarning: invalid value encountered in true_divide\n",
      "  return n/db/n.sum(), bin_edges\n",
      "/home/chanho/anaconda3/envs/torchtest/lib/python3.8/site-packages/numpy/lib/histograms.py:905: RuntimeWarning: invalid value encountered in true_divide\n",
      "  return n/db/n.sum(), bin_edges\n",
      "/home/chanho/anaconda3/envs/torchtest/lib/python3.8/site-packages/numpy/lib/histograms.py:905: RuntimeWarning: invalid value encountered in true_divide\n",
      "  return n/db/n.sum(), bin_edges\n",
      "/home/chanho/anaconda3/envs/torchtest/lib/python3.8/site-packages/numpy/lib/histograms.py:905: RuntimeWarning: invalid value encountered in true_divide\n",
      "  return n/db/n.sum(), bin_edges\n",
      "/home/chanho/anaconda3/envs/torchtest/lib/python3.8/site-packages/numpy/lib/histograms.py:905: RuntimeWarning: invalid value encountered in true_divide\n",
      "  return n/db/n.sum(), bin_edges\n",
      "/home/chanho/anaconda3/envs/torchtest/lib/python3.8/site-packages/numpy/lib/histograms.py:905: RuntimeWarning: invalid value encountered in true_divide\n",
      "  return n/db/n.sum(), bin_edges\n",
      "/home/chanho/anaconda3/envs/torchtest/lib/python3.8/site-packages/numpy/lib/histograms.py:905: RuntimeWarning: invalid value encountered in true_divide\n",
      "  return n/db/n.sum(), bin_edges\n",
      "/home/chanho/anaconda3/envs/torchtest/lib/python3.8/site-packages/numpy/lib/histograms.py:905: RuntimeWarning: invalid value encountered in true_divide\n",
      "  return n/db/n.sum(), bin_edges\n",
      "/home/chanho/anaconda3/envs/torchtest/lib/python3.8/site-packages/numpy/lib/histograms.py:905: RuntimeWarning: invalid value encountered in true_divide\n",
      "  return n/db/n.sum(), bin_edges\n",
      "/home/chanho/anaconda3/envs/torchtest/lib/python3.8/site-packages/numpy/lib/histograms.py:905: RuntimeWarning: invalid value encountered in true_divide\n",
      "  return n/db/n.sum(), bin_edges\n",
      "/home/chanho/anaconda3/envs/torchtest/lib/python3.8/site-packages/numpy/lib/histograms.py:905: RuntimeWarning: invalid value encountered in true_divide\n",
      "  return n/db/n.sum(), bin_edges\n",
      "/home/chanho/anaconda3/envs/torchtest/lib/python3.8/site-packages/numpy/lib/histograms.py:905: RuntimeWarning: invalid value encountered in true_divide\n",
      "  return n/db/n.sum(), bin_edges\n",
      "/home/chanho/anaconda3/envs/torchtest/lib/python3.8/site-packages/numpy/lib/histograms.py:905: RuntimeWarning: invalid value encountered in true_divide\n",
      "  return n/db/n.sum(), bin_edges\n",
      "/home/chanho/anaconda3/envs/torchtest/lib/python3.8/site-packages/numpy/lib/histograms.py:905: RuntimeWarning: invalid value encountered in true_divide\n",
      "  return n/db/n.sum(), bin_edges\n",
      "/home/chanho/anaconda3/envs/torchtest/lib/python3.8/site-packages/numpy/lib/histograms.py:905: RuntimeWarning: invalid value encountered in true_divide\n",
      "  return n/db/n.sum(), bin_edges\n",
      "/home/chanho/anaconda3/envs/torchtest/lib/python3.8/site-packages/numpy/lib/histograms.py:905: RuntimeWarning: invalid value encountered in true_divide\n",
      "  return n/db/n.sum(), bin_edges\n",
      "/home/chanho/anaconda3/envs/torchtest/lib/python3.8/site-packages/numpy/lib/histograms.py:905: RuntimeWarning: invalid value encountered in true_divide\n",
      "  return n/db/n.sum(), bin_edges\n",
      "/home/chanho/anaconda3/envs/torchtest/lib/python3.8/site-packages/numpy/lib/histograms.py:905: RuntimeWarning: invalid value encountered in true_divide\n",
      "  return n/db/n.sum(), bin_edges\n",
      "/home/chanho/anaconda3/envs/torchtest/lib/python3.8/site-packages/numpy/lib/histograms.py:905: RuntimeWarning: invalid value encountered in true_divide\n",
      "  return n/db/n.sum(), bin_edges\n",
      "/home/chanho/anaconda3/envs/torchtest/lib/python3.8/site-packages/numpy/lib/histograms.py:905: RuntimeWarning: invalid value encountered in true_divide\n",
      "  return n/db/n.sum(), bin_edges\n",
      "/home/chanho/anaconda3/envs/torchtest/lib/python3.8/site-packages/numpy/lib/histograms.py:905: RuntimeWarning: invalid value encountered in true_divide\n",
      "  return n/db/n.sum(), bin_edges\n",
      "/home/chanho/anaconda3/envs/torchtest/lib/python3.8/site-packages/numpy/lib/histograms.py:905: RuntimeWarning: invalid value encountered in true_divide\n",
      "  return n/db/n.sum(), bin_edges\n",
      "/home/chanho/anaconda3/envs/torchtest/lib/python3.8/site-packages/numpy/lib/histograms.py:905: RuntimeWarning: invalid value encountered in true_divide\n",
      "  return n/db/n.sum(), bin_edges\n",
      "/home/chanho/anaconda3/envs/torchtest/lib/python3.8/site-packages/numpy/lib/histograms.py:905: RuntimeWarning: invalid value encountered in true_divide\n",
      "  return n/db/n.sum(), bin_edges\n",
      "/home/chanho/anaconda3/envs/torchtest/lib/python3.8/site-packages/numpy/lib/histograms.py:905: RuntimeWarning: invalid value encountered in true_divide\n",
      "  return n/db/n.sum(), bin_edges\n",
      "/home/chanho/anaconda3/envs/torchtest/lib/python3.8/site-packages/numpy/lib/histograms.py:905: RuntimeWarning: invalid value encountered in true_divide\n",
      "  return n/db/n.sum(), bin_edges\n",
      "/home/chanho/anaconda3/envs/torchtest/lib/python3.8/site-packages/numpy/lib/histograms.py:905: RuntimeWarning: invalid value encountered in true_divide\n",
      "  return n/db/n.sum(), bin_edges\n",
      "/home/chanho/anaconda3/envs/torchtest/lib/python3.8/site-packages/numpy/lib/histograms.py:905: RuntimeWarning: invalid value encountered in true_divide\n",
      "  return n/db/n.sum(), bin_edges\n",
      "/home/chanho/anaconda3/envs/torchtest/lib/python3.8/site-packages/numpy/lib/histograms.py:905: RuntimeWarning: invalid value encountered in true_divide\n",
      "  return n/db/n.sum(), bin_edges\n",
      "/home/chanho/anaconda3/envs/torchtest/lib/python3.8/site-packages/numpy/lib/histograms.py:905: RuntimeWarning: invalid value encountered in true_divide\n",
      "  return n/db/n.sum(), bin_edges\n",
      "/home/chanho/anaconda3/envs/torchtest/lib/python3.8/site-packages/numpy/lib/histograms.py:905: RuntimeWarning: invalid value encountered in true_divide\n",
      "  return n/db/n.sum(), bin_edges\n",
      "/home/chanho/anaconda3/envs/torchtest/lib/python3.8/site-packages/numpy/lib/histograms.py:905: RuntimeWarning: invalid value encountered in true_divide\n",
      "  return n/db/n.sum(), bin_edges\n",
      "/home/chanho/anaconda3/envs/torchtest/lib/python3.8/site-packages/numpy/lib/histograms.py:905: RuntimeWarning: invalid value encountered in true_divide\n",
      "  return n/db/n.sum(), bin_edges\n",
      "/home/chanho/anaconda3/envs/torchtest/lib/python3.8/site-packages/numpy/lib/histograms.py:905: RuntimeWarning: invalid value encountered in true_divide\n",
      "  return n/db/n.sum(), bin_edges\n",
      "/home/chanho/anaconda3/envs/torchtest/lib/python3.8/site-packages/numpy/lib/histograms.py:905: RuntimeWarning: invalid value encountered in true_divide\n",
      "  return n/db/n.sum(), bin_edges\n",
      "/home/chanho/anaconda3/envs/torchtest/lib/python3.8/site-packages/numpy/lib/histograms.py:905: RuntimeWarning: invalid value encountered in true_divide\n",
      "  return n/db/n.sum(), bin_edges\n",
      "/home/chanho/anaconda3/envs/torchtest/lib/python3.8/site-packages/numpy/lib/histograms.py:905: RuntimeWarning: invalid value encountered in true_divide\n",
      "  return n/db/n.sum(), bin_edges\n",
      "/home/chanho/anaconda3/envs/torchtest/lib/python3.8/site-packages/numpy/lib/histograms.py:905: RuntimeWarning: invalid value encountered in true_divide\n",
      "  return n/db/n.sum(), bin_edges\n",
      "/home/chanho/anaconda3/envs/torchtest/lib/python3.8/site-packages/numpy/lib/histograms.py:905: RuntimeWarning: invalid value encountered in true_divide\n",
      "  return n/db/n.sum(), bin_edges\n",
      "/home/chanho/anaconda3/envs/torchtest/lib/python3.8/site-packages/numpy/lib/histograms.py:905: RuntimeWarning: invalid value encountered in true_divide\n",
      "  return n/db/n.sum(), bin_edges\n",
      "/home/chanho/anaconda3/envs/torchtest/lib/python3.8/site-packages/numpy/lib/histograms.py:905: RuntimeWarning: invalid value encountered in true_divide\n",
      "  return n/db/n.sum(), bin_edges\n",
      "/home/chanho/anaconda3/envs/torchtest/lib/python3.8/site-packages/numpy/lib/histograms.py:905: RuntimeWarning: invalid value encountered in true_divide\n",
      "  return n/db/n.sum(), bin_edges\n",
      "/home/chanho/anaconda3/envs/torchtest/lib/python3.8/site-packages/numpy/lib/histograms.py:905: RuntimeWarning: invalid value encountered in true_divide\n",
      "  return n/db/n.sum(), bin_edges\n",
      "/home/chanho/anaconda3/envs/torchtest/lib/python3.8/site-packages/numpy/lib/histograms.py:905: RuntimeWarning: invalid value encountered in true_divide\n",
      "  return n/db/n.sum(), bin_edges\n",
      "/home/chanho/anaconda3/envs/torchtest/lib/python3.8/site-packages/numpy/lib/histograms.py:905: RuntimeWarning: invalid value encountered in true_divide\n",
      "  return n/db/n.sum(), bin_edges\n",
      "/home/chanho/anaconda3/envs/torchtest/lib/python3.8/site-packages/numpy/lib/histograms.py:905: RuntimeWarning: invalid value encountered in true_divide\n",
      "  return n/db/n.sum(), bin_edges\n",
      "/home/chanho/anaconda3/envs/torchtest/lib/python3.8/site-packages/numpy/lib/histograms.py:905: RuntimeWarning: invalid value encountered in true_divide\n",
      "  return n/db/n.sum(), bin_edges\n",
      "/home/chanho/anaconda3/envs/torchtest/lib/python3.8/site-packages/numpy/lib/histograms.py:905: RuntimeWarning: invalid value encountered in true_divide\n",
      "  return n/db/n.sum(), bin_edges\n",
      "/home/chanho/anaconda3/envs/torchtest/lib/python3.8/site-packages/numpy/lib/histograms.py:905: RuntimeWarning: invalid value encountered in true_divide\n",
      "  return n/db/n.sum(), bin_edges\n",
      "/home/chanho/anaconda3/envs/torchtest/lib/python3.8/site-packages/numpy/lib/histograms.py:905: RuntimeWarning: invalid value encountered in true_divide\n",
      "  return n/db/n.sum(), bin_edges\n",
      "/home/chanho/anaconda3/envs/torchtest/lib/python3.8/site-packages/numpy/lib/histograms.py:905: RuntimeWarning: invalid value encountered in true_divide\n",
      "  return n/db/n.sum(), bin_edges\n",
      "/home/chanho/anaconda3/envs/torchtest/lib/python3.8/site-packages/numpy/lib/histograms.py:905: RuntimeWarning: invalid value encountered in true_divide\n",
      "  return n/db/n.sum(), bin_edges\n",
      "/home/chanho/anaconda3/envs/torchtest/lib/python3.8/site-packages/numpy/lib/histograms.py:905: RuntimeWarning: invalid value encountered in true_divide\n",
      "  return n/db/n.sum(), bin_edges\n",
      "/home/chanho/anaconda3/envs/torchtest/lib/python3.8/site-packages/numpy/lib/histograms.py:905: RuntimeWarning: invalid value encountered in true_divide\n",
      "  return n/db/n.sum(), bin_edges\n",
      "/home/chanho/anaconda3/envs/torchtest/lib/python3.8/site-packages/numpy/lib/histograms.py:905: RuntimeWarning: invalid value encountered in true_divide\n",
      "  return n/db/n.sum(), bin_edges\n",
      "/home/chanho/anaconda3/envs/torchtest/lib/python3.8/site-packages/numpy/lib/histograms.py:905: RuntimeWarning: invalid value encountered in true_divide\n",
      "  return n/db/n.sum(), bin_edges\n",
      "/home/chanho/anaconda3/envs/torchtest/lib/python3.8/site-packages/numpy/lib/histograms.py:905: RuntimeWarning: invalid value encountered in true_divide\n",
      "  return n/db/n.sum(), bin_edges\n",
      "/home/chanho/anaconda3/envs/torchtest/lib/python3.8/site-packages/numpy/lib/histograms.py:905: RuntimeWarning: invalid value encountered in true_divide\n",
      "  return n/db/n.sum(), bin_edges\n",
      "/home/chanho/anaconda3/envs/torchtest/lib/python3.8/site-packages/numpy/lib/histograms.py:905: RuntimeWarning: invalid value encountered in true_divide\n",
      "  return n/db/n.sum(), bin_edges\n",
      "/home/chanho/anaconda3/envs/torchtest/lib/python3.8/site-packages/numpy/lib/histograms.py:905: RuntimeWarning: invalid value encountered in true_divide\n",
      "  return n/db/n.sum(), bin_edges\n",
      "/home/chanho/anaconda3/envs/torchtest/lib/python3.8/site-packages/numpy/lib/histograms.py:905: RuntimeWarning: invalid value encountered in true_divide\n",
      "  return n/db/n.sum(), bin_edges\n",
      "/home/chanho/anaconda3/envs/torchtest/lib/python3.8/site-packages/numpy/lib/histograms.py:905: RuntimeWarning: invalid value encountered in true_divide\n",
      "  return n/db/n.sum(), bin_edges\n",
      "/home/chanho/anaconda3/envs/torchtest/lib/python3.8/site-packages/numpy/lib/histograms.py:905: RuntimeWarning: invalid value encountered in true_divide\n",
      "  return n/db/n.sum(), bin_edges\n",
      "/home/chanho/anaconda3/envs/torchtest/lib/python3.8/site-packages/numpy/lib/histograms.py:905: RuntimeWarning: invalid value encountered in true_divide\n",
      "  return n/db/n.sum(), bin_edges\n",
      "/home/chanho/anaconda3/envs/torchtest/lib/python3.8/site-packages/numpy/lib/histograms.py:905: RuntimeWarning: invalid value encountered in true_divide\n",
      "  return n/db/n.sum(), bin_edges\n"
     ]
    },
    {
     "ename": "ValueError",
     "evalue": "invalid literal for int() with base 10: 'autoaugment'",
     "output_type": "error",
     "traceback": [
      "\u001b[0;31m---------------------------------------------------------------------------\u001b[0m",
      "\u001b[0;31mRemoteTraceback\u001b[0m                           Traceback (most recent call last)",
      "\u001b[0;31mRemoteTraceback\u001b[0m: \n\"\"\"\nTraceback (most recent call last):\n  File \"/home/chanho/anaconda3/envs/torchtest/lib/python3.8/multiprocessing/pool.py\", line 125, in worker\n    result = (True, func(*args, **kwds))\n  File \"/home/chanho/anaconda3/envs/torchtest/lib/python3.8/multiprocessing/pool.py\", line 48, in mapstar\n    return list(map(*args))\n  File \"/home/chanho/reimplement-ds-analyzer/pyfiles/parsers/plotPackage.py\", line 694, in plot\n    if not self._set_df(datafile):\n  File \"/home/chanho/reimplement-ds-analyzer/pyfiles/parsers/plotPackage.py\", line 108, in _set_df\n    self.worker_num = int(self.worker.replace(\"worker\", \"\"))\nValueError: invalid literal for int() with base 10: 'autoaugment'\n\"\"\"",
      "\nThe above exception was the direct cause of the following exception:\n",
      "\u001b[0;31mValueError\u001b[0m                                Traceback (most recent call last)",
      "\u001b[0;32m<ipython-input-8-f11aab3330fa>\u001b[0m in \u001b[0;36m<module>\u001b[0;34m\u001b[0m\n\u001b[1;32m      7\u001b[0m \u001b[0;34m\u001b[0m\u001b[0m\n\u001b[1;32m      8\u001b[0m    \u001b[0mitercdf\u001b[0m \u001b[0;34m=\u001b[0m \u001b[0mparsers\u001b[0m\u001b[0;34m.\u001b[0m\u001b[0mitercdfPlotter\u001b[0m\u001b[0;34m(\u001b[0m\u001b[0;34m)\u001b[0m\u001b[0;34m\u001b[0m\u001b[0;34m\u001b[0m\u001b[0m\n\u001b[0;32m----> 9\u001b[0;31m    \u001b[0mparsers\u001b[0m\u001b[0;34m.\u001b[0m\u001b[0mplotWrapper\u001b[0m\u001b[0;34m(\u001b[0m\u001b[0mplotter\u001b[0m\u001b[0;34m=\u001b[0m\u001b[0mitercdf\u001b[0m\u001b[0;34m,\u001b[0m \u001b[0mfile_suffix\u001b[0m\u001b[0;34m=\u001b[0m\u001b[0;34mf'thread*'\u001b[0m\u001b[0;34m)\u001b[0m\u001b[0;34m\u001b[0m\u001b[0;34m\u001b[0m\u001b[0m\n\u001b[0m\u001b[1;32m     10\u001b[0m \u001b[0;34m\u001b[0m\u001b[0m\n\u001b[1;32m     11\u001b[0m    \u001b[0mplotiter\u001b[0m \u001b[0;34m=\u001b[0m \u001b[0mparsers\u001b[0m\u001b[0;34m.\u001b[0m\u001b[0miterPlotter\u001b[0m\u001b[0;34m(\u001b[0m\u001b[0;34m)\u001b[0m\u001b[0;34m\u001b[0m\u001b[0;34m\u001b[0m\u001b[0m\n",
      "\u001b[0;32m~/reimplement-ds-analyzer/pyfiles/parsers/plotPackage.py\u001b[0m in \u001b[0;36mplotWrapper\u001b[0;34m(typedir, file_suffix, parser, plotter, extension_suffix)\u001b[0m\n\u001b[1;32m   1110\u001b[0m \u001b[0;34m\u001b[0m\u001b[0m\n\u001b[1;32m   1111\u001b[0m         \u001b[0;32mwith\u001b[0m \u001b[0mPool\u001b[0m\u001b[0;34m(\u001b[0m\u001b[0;34m)\u001b[0m \u001b[0;32mas\u001b[0m \u001b[0mp\u001b[0m\u001b[0;34m:\u001b[0m\u001b[0;34m\u001b[0m\u001b[0;34m\u001b[0m\u001b[0m\n\u001b[0;32m-> 1112\u001b[0;31m             \u001b[0mp\u001b[0m\u001b[0;34m.\u001b[0m\u001b[0mmap\u001b[0m\u001b[0;34m(\u001b[0m\u001b[0mplotter\u001b[0m\u001b[0;34m.\u001b[0m\u001b[0mplot\u001b[0m\u001b[0;34m,\u001b[0m \u001b[0mdatafiles\u001b[0m\u001b[0;34m)\u001b[0m\u001b[0;34m\u001b[0m\u001b[0;34m\u001b[0m\u001b[0m\n\u001b[0m",
      "\u001b[0;32m~/anaconda3/envs/torchtest/lib/python3.8/multiprocessing/pool.py\u001b[0m in \u001b[0;36mmap\u001b[0;34m(self, func, iterable, chunksize)\u001b[0m\n\u001b[1;32m    362\u001b[0m         \u001b[0;32min\u001b[0m \u001b[0ma\u001b[0m \u001b[0mlist\u001b[0m \u001b[0mthat\u001b[0m \u001b[0;32mis\u001b[0m \u001b[0mreturned\u001b[0m\u001b[0;34m.\u001b[0m\u001b[0;34m\u001b[0m\u001b[0;34m\u001b[0m\u001b[0m\n\u001b[1;32m    363\u001b[0m         '''\n\u001b[0;32m--> 364\u001b[0;31m         \u001b[0;32mreturn\u001b[0m \u001b[0mself\u001b[0m\u001b[0;34m.\u001b[0m\u001b[0m_map_async\u001b[0m\u001b[0;34m(\u001b[0m\u001b[0mfunc\u001b[0m\u001b[0;34m,\u001b[0m \u001b[0miterable\u001b[0m\u001b[0;34m,\u001b[0m \u001b[0mmapstar\u001b[0m\u001b[0;34m,\u001b[0m \u001b[0mchunksize\u001b[0m\u001b[0;34m)\u001b[0m\u001b[0;34m.\u001b[0m\u001b[0mget\u001b[0m\u001b[0;34m(\u001b[0m\u001b[0;34m)\u001b[0m\u001b[0;34m\u001b[0m\u001b[0;34m\u001b[0m\u001b[0m\n\u001b[0m\u001b[1;32m    365\u001b[0m \u001b[0;34m\u001b[0m\u001b[0m\n\u001b[1;32m    366\u001b[0m     \u001b[0;32mdef\u001b[0m \u001b[0mstarmap\u001b[0m\u001b[0;34m(\u001b[0m\u001b[0mself\u001b[0m\u001b[0;34m,\u001b[0m \u001b[0mfunc\u001b[0m\u001b[0;34m,\u001b[0m \u001b[0miterable\u001b[0m\u001b[0;34m,\u001b[0m \u001b[0mchunksize\u001b[0m\u001b[0;34m=\u001b[0m\u001b[0;32mNone\u001b[0m\u001b[0;34m)\u001b[0m\u001b[0;34m:\u001b[0m\u001b[0;34m\u001b[0m\u001b[0;34m\u001b[0m\u001b[0m\n",
      "\u001b[0;32m~/anaconda3/envs/torchtest/lib/python3.8/multiprocessing/pool.py\u001b[0m in \u001b[0;36mget\u001b[0;34m(self, timeout)\u001b[0m\n\u001b[1;32m    769\u001b[0m             \u001b[0;32mreturn\u001b[0m \u001b[0mself\u001b[0m\u001b[0;34m.\u001b[0m\u001b[0m_value\u001b[0m\u001b[0;34m\u001b[0m\u001b[0;34m\u001b[0m\u001b[0m\n\u001b[1;32m    770\u001b[0m         \u001b[0;32melse\u001b[0m\u001b[0;34m:\u001b[0m\u001b[0;34m\u001b[0m\u001b[0;34m\u001b[0m\u001b[0m\n\u001b[0;32m--> 771\u001b[0;31m             \u001b[0;32mraise\u001b[0m \u001b[0mself\u001b[0m\u001b[0;34m.\u001b[0m\u001b[0m_value\u001b[0m\u001b[0;34m\u001b[0m\u001b[0;34m\u001b[0m\u001b[0m\n\u001b[0m\u001b[1;32m    772\u001b[0m \u001b[0;34m\u001b[0m\u001b[0m\n\u001b[1;32m    773\u001b[0m     \u001b[0;32mdef\u001b[0m \u001b[0m_set\u001b[0m\u001b[0;34m(\u001b[0m\u001b[0mself\u001b[0m\u001b[0;34m,\u001b[0m \u001b[0mi\u001b[0m\u001b[0;34m,\u001b[0m \u001b[0mobj\u001b[0m\u001b[0;34m)\u001b[0m\u001b[0;34m:\u001b[0m\u001b[0;34m\u001b[0m\u001b[0;34m\u001b[0m\u001b[0m\n",
      "\u001b[0;31mValueError\u001b[0m: invalid literal for int() with base 10: 'autoaugment'"
     ]
    }
   ],
   "source": [
    " if not any(\"FULLTRACE\" in s for s in parsers.parsePackage.trainTypeSet):\n",
    "    batchsize=256\n",
    "    if parsers.parsePackage.trainType.find(\"2GPU\") != -1:\n",
    "        batchsize*=2\n",
    "    elif parsers.parsePackage.trainType.find(\"DDP\") != -1:\n",
    "        batchsize*=4\n",
    "    \n",
    "    itercdf = parsers.itercdfPlotter()\n",
    "    parsers.plotWrapper(plotter=itercdf, file_suffix=f'thread*')\n",
    "                        \n",
    "    plotiter = parsers.iterPlotter()\n",
    "    parsers.plotWrapper(plotter=plotiter, file_suffix=f'thread*')\n",
    "    \n",
    "    gpuplotiter = parsers.gpuiterPlotter()\n",
    "    parsers.plotWrapper(plotter=gpuplotiter, file_suffix=f'thread*')\n",
    "    \n",
    "    gpuitercdfPlotter = parsers.gpuitercdfPlotter()\n",
    "    parsers.plotWrapper(plotter=gpuitercdfPlotter, file_suffix=f'thread*')\n",
    "    "
   ]
  },
  {
   "cell_type": "code",
   "execution_count": null,
   "metadata": {
    "ExecuteTime": {
     "end_time": "2021-07-12T12:26:26.530115Z",
     "start_time": "2021-07-12T12:26:24.152346Z"
    },
    "scrolled": true
   },
   "outputs": [],
   "source": [
    "cpuplotter = parsers.cpuPlotter() \n",
    "parsers.plotWrapper(typedir=\"cpu\", file_suffix=\"cpuutil\",\n",
    "                    parser=cpu, plotter=cpuplotter)"
   ]
  },
  {
   "cell_type": "code",
   "execution_count": null,
   "metadata": {
    "ExecuteTime": {
     "end_time": "2021-07-12T12:26:28.520786Z",
     "start_time": "2021-07-12T12:26:26.531603Z"
    },
    "scrolled": true
   },
   "outputs": [],
   "source": [
    "memplotter = parsers.memPlotter()\n",
    "parsers.plotWrapper(typedir=\"mem\", file_suffix=\"memory\",\n",
    "                    parser=mem, plotter=memplotter)"
   ]
  },
  {
   "cell_type": "code",
   "execution_count": null,
   "metadata": {
    "ExecuteTime": {
     "end_time": "2021-07-12T12:26:29.934184Z",
     "start_time": "2021-07-12T12:26:28.522368Z"
    },
    "scrolled": true,
    "tags": []
   },
   "outputs": [],
   "source": [
    "ioplotter = parsers.ioPlotter()\n",
    "parsers.plotWrapper(typedir=\"io\", file_suffix=\"io\",\n",
    "                    parser=io, plotter=ioplotter)"
   ]
  },
  {
   "cell_type": "code",
   "execution_count": null,
   "metadata": {
    "ExecuteTime": {
     "end_time": "2021-07-12T12:26:31.254992Z",
     "start_time": "2021-07-12T12:26:29.936153Z"
    },
    "scrolled": true
   },
   "outputs": [],
   "source": [
    "ioplotter = parsers.ioPlotter()\n",
    "parsers.plotWrapper(typedir=\"io\", file_suffix=\"io\",\n",
    "                    parser=io, plotter=ioplotter)"
   ]
  },
  {
   "cell_type": "code",
   "execution_count": null,
   "metadata": {
    "ExecuteTime": {
     "end_time": "2021-07-12T12:26:31.636979Z",
     "start_time": "2021-07-12T12:26:31.256300Z"
    },
    "scrolled": true
   },
   "outputs": [],
   "source": [
    "cache = parsers.cacheParser()\n",
    "parsers.plotWrapper(typedir=\"cache\", file_suffix=\"cache\",\n",
    "                    parser=cache, plotter=None)\n",
    "cache.total_summary()"
   ]
  },
  {
   "cell_type": "code",
   "execution_count": null,
   "metadata": {
    "ExecuteTime": {
     "end_time": "2021-07-12T12:26:31.734529Z",
     "start_time": "2021-07-12T12:26:31.637961Z"
    },
    "scrolled": true
   },
   "outputs": [],
   "source": [
    "pcm_log_dir=f\"../../log/pcm/{parsers.parsePackage.trainType}/*/*/*/*/*/*/*/*/\"\n",
    "\n",
    "ipc = parsers.ipcPlotter()\n",
    "parsers.plotWrapper(typedir=pcm_log_dir, file_suffix=\"pcm\",\n",
    "                    parser=None, plotter=ipc)\n",
    "\n",
    "l3miss = parsers.l3missPlotter()\n",
    "parsers.plotWrapper(typedir=pcm_log_dir, file_suffix=\"pcm\",\n",
    "                    parser=None, plotter=l3miss)\n",
    "\n",
    "l3hit = parsers.l3hitPlotter()\n",
    "parsers.plotWrapper(typedir=pcm_log_dir, file_suffix=\"pcm\",\n",
    "                    parser=None, plotter=l3hit)\n"
   ]
  },
  {
   "cell_type": "code",
   "execution_count": null,
   "metadata": {
    "ExecuteTime": {
     "end_time": "2021-07-12T12:25:49.178362Z",
     "start_time": "2021-07-12T12:25:40.242Z"
    }
   },
   "outputs": [],
   "source": [
    "# parsers.plotWrapper(typedir=\"../../log/pcm/*/*/*/*/*/*/*/*/*/\", file_suffix=\"memory\",\n",
    "#                     parser=None, plotter=None)\n"
   ]
  },
  {
   "cell_type": "code",
   "execution_count": null,
   "metadata": {
    "ExecuteTime": {
     "end_time": "2021-07-12T12:25:31.926833Z",
     "start_time": "2021-07-12T12:25:29.861Z"
    },
    "scrolled": true
   },
   "outputs": [],
   "source": [
    "# perfhist = parsers.perfhistPlotter()\n",
    "\n",
    "\n",
    "# parsers.plotWrapper(typedir=\"perf\", file_suffix=\"perf.hist.*\", extension_suffix=\"\",\n",
    "#                     parser=None, plotter=perfhist)\n",
    "\n"
   ]
  },
  {
   "cell_type": "code",
   "execution_count": null,
   "metadata": {},
   "outputs": [],
   "source": [
    "# import pandas as pd\n",
    "\n",
    "# test = pd.DataFrame([{\"GPU\":0, \"Epoch\": 0, \"Iter\": 0},{\"GPU\":0, \"Epoch\": 0, \"Iter\": 1},{\"GPU\":1, \"Epoch\": 0, \"Iter\": 0},{\"GPU\":1, \"Epoch\": 0, \"Iter\": 1},\n",
    "#                      {\"GPU\":0, \"Epoch\": 1, \"Iter\": 0},{\"GPU\":0, \"Epoch\": 1, \"Iter\": 1},{\"GPU\":1, \"Epoch\": 1, \"Iter\": 0},{\"GPU\":1, \"Epoch\": 1, \"Iter\": 1}\n",
    "#                     ])\n",
    "\n",
    "# target = pd.DataFrame([{\"GPU\":0, \"Iter\": 0, \"test\":123},{\"GPU\":0, \"Iter\": 1, \"test\":123},{\"GPU\":1, \"Iter\": 0, \"test\":123},{\"GPU\":1, \"Iter\": 1, \"test\":123},\n",
    "#                      {\"GPU\":0, \"Iter\": 0, \"test\":1234},{\"GPU\":0, \"Iter\": 1, \"test\":1234},{\"GPU\":1, \"Iter\": 0, \"test\":1234},{\"GPU\":1, \"Iter\": 1, \"test\":1234}\n",
    "#                     ])\n",
    "\n",
    "\n",
    "\n",
    "# new = test.merge(right=target, on=[\"GPU\",\"Iter\"]).drop_duplicates(subset=[\"GPU\",\"Epoch\",\"Iter\"])\n",
    "# print(new)"
   ]
  },
  {
   "cell_type": "code",
   "execution_count": null,
   "metadata": {},
   "outputs": [],
   "source": []
  }
 ],
 "metadata": {
  "interpreter": {
   "hash": "e5b33de0f7ddd1afc1425e206ac7c656bf4eb55030333821141a67d8ddddb207"
  },
  "kernelspec": {
   "display_name": "Python 3",
   "language": "python",
   "name": "python3"
  },
  "language_info": {
   "codemirror_mode": {
    "name": "ipython",
    "version": 3
   },
   "file_extension": ".py",
   "mimetype": "text/x-python",
   "name": "python",
   "nbconvert_exporter": "python",
   "pygments_lexer": "ipython3",
   "version": "3.8.8"
  },
  "toc": {
   "base_numbering": 1,
   "nav_menu": {},
   "number_sections": true,
   "sideBar": true,
   "skip_h1_title": false,
   "title_cell": "Table of Contents",
   "title_sidebar": "Contents",
   "toc_cell": false,
   "toc_position": {},
   "toc_section_display": true,
   "toc_window_display": false
  }
 },
 "nbformat": 4,
 "nbformat_minor": 4
}
