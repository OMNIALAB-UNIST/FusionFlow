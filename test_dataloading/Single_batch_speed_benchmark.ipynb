{
 "cells": [
  {
   "cell_type": "code",
   "execution_count": 1,
   "metadata": {
    "ExecuteTime": {
     "end_time": "2021-04-26T06:46:14.938542Z",
     "start_time": "2021-04-26T06:46:11.767306Z"
    },
    "scrolled": false
   },
   "outputs": [
    {
     "name": "stderr",
     "output_type": "stream",
     "text": [
      "2021-04-26 15:46:13.804 DEBUG:\tStart Process0\n",
      "2021-04-26 15:46:13.804 DEBUG:\tStart Process2\n",
      "2021-04-26 15:46:13.804 DEBUG:\tStart Process6\n",
      "2021-04-26 15:46:13.804 DEBUG:\tStart Process3\n",
      "2021-04-26 15:46:13.804 DEBUG:\tStart Process1\n",
      "2021-04-26 15:46:13.804 DEBUG:\tStart Process7\n",
      "2021-04-26 15:46:13.804 DEBUG:\tStart Process4\n",
      "2021-04-26 15:46:13.804 DEBUG:\tStart Process5\n",
      "2021-04-26 15:46:14.886 DEBUG:\tEnd Process0 Access time: 1.076746859587729\n",
      "2021-04-26 15:46:14.893 DEBUG:\tEnd Process4 Access time: 1.0433466518297791\n",
      "2021-04-26 15:46:14.900 DEBUG:\tEnd Process5 Access time: 1.0492710480466485\n",
      "2021-04-26 15:46:14.903 DEBUG:\tEnd Process3 Access time: 1.0936345281079412\n",
      "2021-04-26 15:46:14.907 DEBUG:\tEnd Process6 Access time: 1.0973726212978363\n",
      "2021-04-26 15:46:14.908 DEBUG:\tEnd Process7 Access time: 1.0975945191457868\n",
      "2021-04-26 15:46:14.914 DEBUG:\tEnd Process2 Access time: 1.1044503282755613\n",
      "2021-04-26 15:46:14.917 DEBUG:\tEnd Process1 Access time: 1.1072922265157104\n"
     ]
    }
   ],
   "source": [
    "from multiprocessing import Process, Manager, Barrier, Queue, SimpleQueue, Array\n",
    "import time, logging, os, copy, pathlib, io, random, sys\n",
    "import statistics as stats\n",
    "import numpy as np\n",
    "from PIL import Image\n",
    "import torchvision.transforms as transforms\n",
    "import torch\n",
    "\n",
    "torch.set_num_threads(1)\n",
    "\n",
    "import psutil\n",
    "p = psutil.Process()\n",
    "p.cpu_affinity([11])\n",
    "\n",
    "seed = np.random.randint(2147483647) # make a seed with numpy generator \n",
    "torch.manual_seed(seed)\n",
    "np.random.seed(seed)\n",
    "random.seed(seed) # apply this seed to img transforms\n",
    "\n",
    "logging.basicConfig(level=logging.DEBUG, format='%(asctime)s.%(msecs)03d %(levelname)s:\\t%(message)s', datefmt='%Y-%m-%d %H:%M:%S')\n",
    "log = logging.getLogger(__name__)\n",
    "from shared_memory_dict import SharedMemoryDict\n",
    "normalize = transforms.Normalize(mean=[0.485, 0.456, 0.406],\n",
    "                               std=[0.229, 0.224, 0.225])\n",
    "\n",
    "num_p = 8\n",
    "rep = 1\n",
    "batch_size = 256\n",
    "augmentations=[\n",
    "            transforms.Resize(256),\n",
    "            transforms.CenterCrop(224),\n",
    "#             transforms.RandomResizedCrop(224),\n",
    "            transforms.RandomHorizontalFlip(p=1.0),\n",
    "            transforms.ToTensor(),\n",
    "            normalize\n",
    "        ]\n",
    "synthetic = False\n",
    "decoding = False\n",
    "memcached = False\n",
    "fromdisk = False\n",
    "augmentations_composed=transforms.Compose(augmentations)\n",
    "    \n",
    "def pil_loader(path):\n",
    "    # open path as file to avoid ResourceWarning (https://github.com/python-pillow/Pillow/issues/835)\n",
    "    with open(path, 'rb') as f:\n",
    "        img = Image.open(f)\n",
    "        return img.convert('RGB')\n",
    "    \n",
    "def memloader(byte_data):\n",
    "    # open path as file to avoid ResourceWarning (https://github.com/python-pillow/Pillow/issues/835)\n",
    "    img = Image.open(byte_data)\n",
    "    return img.convert('RGB')\n",
    "    \n",
    "def aug(imgd,result,barrier,num,preloading,num_p,rep, memcached, batch_size, fromdisk):\n",
    "    import psutil\n",
    "    p = psutil.Process()\n",
    "    p.cpu_affinity([num])\n",
    "    arr = []\n",
    "    for j in range(rep):\n",
    "        barrier.wait()\n",
    "        log.debug(f\"Start Process{num}\")\n",
    "        start=time.perf_counter()\n",
    "        \n",
    "        for i in range(batch_size):\n",
    "            if fromdisk:\n",
    "                 img = pil_loader(imgd[num+num_p*i])\n",
    "            elif preloading:\n",
    "                img = imgd.get_nowait() if memcached else imgd[num+num_p*i]\n",
    "#                 log.debug(imgd.qsize())\n",
    "            else:\n",
    "                img = memloader(imgd.get_nowait()) if memcached else memloader(imgd[num+num_p*i])\n",
    "#                 log.debug(imgd.qsize())\n",
    "            # image colocation\n",
    "            arr.append(augmentations_composed(img))\n",
    "    \n",
    "        end=time.perf_counter()                            \n",
    "    \n",
    "        elapsed_time=end-start\n",
    "        log.debug(f\"End Process{num} Access time: {elapsed_time}\")\n",
    "#         result.append(elapsed_time)\n",
    "        \n",
    "    return arr\n",
    "\n",
    "# manager1 = Manager(); manager2 = Manager(); manager3 = Manager(); manager4 = Manager()\n",
    "# client = base.Client(('localhost', 11211));\n",
    "\n",
    "d= []\n",
    "results = []\n",
    "for i in range(num_p):\n",
    "    d.append({})\n",
    "    results.append(i)\n",
    "# d = [manager1.dict(),manager1.dict(),manager1.dict(),manager1.dict()]\n",
    "# d = [client,client,client,client]\n",
    "# d = [manager1.dict(),manager2.dict(),manager3.dict(),manager4.dict()]\n",
    "# d = [Array(, lock=False), SimpleQueue(), SimpleQueue(), SimpleQueue()]\n",
    "# results = [manager1.list(),manager2.list(),manager3.list(),manager4.list()]\n",
    "\n",
    "\n",
    "for i in range(num_p*256):\n",
    "    if synthetic:\n",
    "        if memcached:\n",
    "            d[i % num_p].put(torch.rand((3, 224, 224)))\n",
    "        else:\n",
    "            d[i % num_p][i] = torch.rand((3, 224, 224))\n",
    "    elif decoding:\n",
    "        path =pathlib.Path(f'/home/chanho/ssd2/1024batch10/train/n02364673/{i}.JPEG')\n",
    "        if memcached:\n",
    "            d[i % num_p].put(pil_loader(path))\n",
    "        else:\n",
    "            d[i % num_p][i] = pil_loader(path)\n",
    "    else:\n",
    "        path =pathlib.Path(f'/home/chanho/ssd2/1024batch10/train/n02364673/{i}.JPEG')\n",
    "        \n",
    "        if fromdisk:\n",
    "            d[i % num_p][i] = path\n",
    "        elif memcached:\n",
    "            d[i % num_p].put(pil_loader(path))\n",
    "        else:\n",
    "            with open(path, 'rb') as f:\n",
    "                img_byte = f.read()\n",
    "                img_byte_mem = io.BytesIO(img_byte)\n",
    "                d[i % num_p][i] = img_byte_mem\n",
    "    \n",
    "barrier=Barrier(num_p)\n",
    "ps = []\n",
    "\n",
    "for i in range(num_p):\n",
    "    p=Process(target=aug, \n",
    "              args=(d[i % num_p],results[i % num_p],barrier,\n",
    "                    i,decoding, num_p, rep, memcached, batch_size, fromdisk))\n",
    "    ps.append(p)\n",
    "\n",
    "for p in ps: p.start()\n",
    "\n",
    "for p in ps: p.join()"
   ]
  },
  {
   "cell_type": "code",
   "execution_count": 2,
   "metadata": {
    "ExecuteTime": {
     "end_time": "2021-04-26T03:40:28.198166Z",
     "start_time": "2021-04-26T03:40:28.105621Z"
    },
    "scrolled": false
   },
   "outputs": [
    {
     "name": "stdout",
     "output_type": "stream",
     "text": [
      "\n",
      "Process0\n"
     ]
    },
    {
     "ename": "TypeError",
     "evalue": "'int' object is not iterable",
     "output_type": "error",
     "traceback": [
      "\u001b[0;31m---------------------------------------------------------------------------\u001b[0m",
      "\u001b[0;31mTypeError\u001b[0m                                 Traceback (most recent call last)",
      "\u001b[0;32m~/anaconda3/envs/torchtest/lib/python3.8/statistics.py\u001b[0m in \u001b[0;36mfmean\u001b[0;34m(data)\u001b[0m\n\u001b[1;32m    330\u001b[0m     \u001b[0;32mtry\u001b[0m\u001b[0;34m:\u001b[0m\u001b[0;34m\u001b[0m\u001b[0;34m\u001b[0m\u001b[0m\n\u001b[0;32m--> 331\u001b[0;31m         \u001b[0mn\u001b[0m \u001b[0;34m=\u001b[0m \u001b[0mlen\u001b[0m\u001b[0;34m(\u001b[0m\u001b[0mdata\u001b[0m\u001b[0;34m)\u001b[0m\u001b[0;34m\u001b[0m\u001b[0;34m\u001b[0m\u001b[0m\n\u001b[0m\u001b[1;32m    332\u001b[0m     \u001b[0;32mexcept\u001b[0m \u001b[0mTypeError\u001b[0m\u001b[0;34m:\u001b[0m\u001b[0;34m\u001b[0m\u001b[0;34m\u001b[0m\u001b[0m\n",
      "\u001b[0;31mTypeError\u001b[0m: object of type 'int' has no len()",
      "\nDuring handling of the above exception, another exception occurred:\n",
      "\u001b[0;31mTypeError\u001b[0m                                 Traceback (most recent call last)",
      "\u001b[0;32m<ipython-input-2-a8737ce11621>\u001b[0m in \u001b[0;36m<module>\u001b[0;34m\u001b[0m\n\u001b[1;32m     11\u001b[0m \u001b[0;32mfor\u001b[0m \u001b[0mi\u001b[0m \u001b[0;32min\u001b[0m \u001b[0mrange\u001b[0m\u001b[0;34m(\u001b[0m\u001b[0mnum_p\u001b[0m\u001b[0;34m)\u001b[0m \u001b[0;34m:\u001b[0m\u001b[0;34m\u001b[0m\u001b[0;34m\u001b[0m\u001b[0m\n\u001b[1;32m     12\u001b[0m     \u001b[0mprint\u001b[0m\u001b[0;34m(\u001b[0m\u001b[0;34mf\"\\nProcess{i}\"\u001b[0m\u001b[0;34m)\u001b[0m\u001b[0;34m\u001b[0m\u001b[0;34m\u001b[0m\u001b[0m\n\u001b[0;32m---> 13\u001b[0;31m     \u001b[0mstat\u001b[0m\u001b[0;34m(\u001b[0m\u001b[0mresults\u001b[0m\u001b[0;34m[\u001b[0m\u001b[0mi\u001b[0m\u001b[0;34m]\u001b[0m\u001b[0;34m)\u001b[0m\u001b[0;34m\u001b[0m\u001b[0;34m\u001b[0m\u001b[0m\n\u001b[0m\u001b[1;32m     14\u001b[0m \u001b[0;34m\u001b[0m\u001b[0m\n",
      "\u001b[0;32m<ipython-input-2-a8737ce11621>\u001b[0m in \u001b[0;36mstat\u001b[0;34m(data)\u001b[0m\n\u001b[1;32m      2\u001b[0m \u001b[0;31m#     print(\"max: \", stats.fmean(data))\u001b[0m\u001b[0;34m\u001b[0m\u001b[0;34m\u001b[0m\u001b[0;34m\u001b[0m\u001b[0m\n\u001b[1;32m      3\u001b[0m \u001b[0;31m#     print(\"min: \",stats.min())\u001b[0m\u001b[0;34m\u001b[0m\u001b[0;34m\u001b[0m\u001b[0;34m\u001b[0m\u001b[0m\n\u001b[0;32m----> 4\u001b[0;31m     \u001b[0mprint\u001b[0m\u001b[0;34m(\u001b[0m\u001b[0;34m\"mean: \"\u001b[0m\u001b[0;34m,\u001b[0m\u001b[0mstats\u001b[0m\u001b[0;34m.\u001b[0m\u001b[0mfmean\u001b[0m\u001b[0;34m(\u001b[0m\u001b[0mdata\u001b[0m\u001b[0;34m)\u001b[0m\u001b[0;34m)\u001b[0m\u001b[0;34m\u001b[0m\u001b[0;34m\u001b[0m\u001b[0m\n\u001b[0m\u001b[1;32m      5\u001b[0m     \u001b[0mprint\u001b[0m\u001b[0;34m(\u001b[0m\u001b[0;34m\"median: \"\u001b[0m\u001b[0;34m,\u001b[0m\u001b[0mstats\u001b[0m\u001b[0;34m.\u001b[0m\u001b[0mmedian\u001b[0m\u001b[0;34m(\u001b[0m\u001b[0mdata\u001b[0m\u001b[0;34m)\u001b[0m\u001b[0;34m)\u001b[0m\u001b[0;34m\u001b[0m\u001b[0;34m\u001b[0m\u001b[0m\n\u001b[1;32m      6\u001b[0m     \u001b[0mprint\u001b[0m\u001b[0;34m(\u001b[0m\u001b[0;34m\"std: \"\u001b[0m\u001b[0;34m,\u001b[0m\u001b[0mstats\u001b[0m\u001b[0;34m.\u001b[0m\u001b[0mstdev\u001b[0m\u001b[0;34m(\u001b[0m\u001b[0mdata\u001b[0m\u001b[0;34m)\u001b[0m\u001b[0;34m)\u001b[0m\u001b[0;34m\u001b[0m\u001b[0;34m\u001b[0m\u001b[0m\n",
      "\u001b[0;32m~/anaconda3/envs/torchtest/lib/python3.8/statistics.py\u001b[0m in \u001b[0;36mfmean\u001b[0;34m(data)\u001b[0m\n\u001b[1;32m    337\u001b[0m             \u001b[0;32mfor\u001b[0m \u001b[0mn\u001b[0m\u001b[0;34m,\u001b[0m \u001b[0mx\u001b[0m \u001b[0;32min\u001b[0m \u001b[0menumerate\u001b[0m\u001b[0;34m(\u001b[0m\u001b[0miterable\u001b[0m\u001b[0;34m,\u001b[0m \u001b[0mstart\u001b[0m\u001b[0;34m=\u001b[0m\u001b[0;36m1\u001b[0m\u001b[0;34m)\u001b[0m\u001b[0;34m:\u001b[0m\u001b[0;34m\u001b[0m\u001b[0;34m\u001b[0m\u001b[0m\n\u001b[1;32m    338\u001b[0m                 \u001b[0;32myield\u001b[0m \u001b[0mx\u001b[0m\u001b[0;34m\u001b[0m\u001b[0;34m\u001b[0m\u001b[0m\n\u001b[0;32m--> 339\u001b[0;31m         \u001b[0mtotal\u001b[0m \u001b[0;34m=\u001b[0m \u001b[0mfsum\u001b[0m\u001b[0;34m(\u001b[0m\u001b[0mcount\u001b[0m\u001b[0;34m(\u001b[0m\u001b[0mdata\u001b[0m\u001b[0;34m)\u001b[0m\u001b[0;34m)\u001b[0m\u001b[0;34m\u001b[0m\u001b[0;34m\u001b[0m\u001b[0m\n\u001b[0m\u001b[1;32m    340\u001b[0m     \u001b[0;32melse\u001b[0m\u001b[0;34m:\u001b[0m\u001b[0;34m\u001b[0m\u001b[0;34m\u001b[0m\u001b[0m\n\u001b[1;32m    341\u001b[0m         \u001b[0mtotal\u001b[0m \u001b[0;34m=\u001b[0m \u001b[0mfsum\u001b[0m\u001b[0;34m(\u001b[0m\u001b[0mdata\u001b[0m\u001b[0;34m)\u001b[0m\u001b[0;34m\u001b[0m\u001b[0;34m\u001b[0m\u001b[0m\n",
      "\u001b[0;32m~/anaconda3/envs/torchtest/lib/python3.8/statistics.py\u001b[0m in \u001b[0;36mcount\u001b[0;34m(iterable)\u001b[0m\n\u001b[1;32m    335\u001b[0m         \u001b[0;32mdef\u001b[0m \u001b[0mcount\u001b[0m\u001b[0;34m(\u001b[0m\u001b[0miterable\u001b[0m\u001b[0;34m)\u001b[0m\u001b[0;34m:\u001b[0m\u001b[0;34m\u001b[0m\u001b[0;34m\u001b[0m\u001b[0m\n\u001b[1;32m    336\u001b[0m             \u001b[0;32mnonlocal\u001b[0m \u001b[0mn\u001b[0m\u001b[0;34m\u001b[0m\u001b[0;34m\u001b[0m\u001b[0m\n\u001b[0;32m--> 337\u001b[0;31m             \u001b[0;32mfor\u001b[0m \u001b[0mn\u001b[0m\u001b[0;34m,\u001b[0m \u001b[0mx\u001b[0m \u001b[0;32min\u001b[0m \u001b[0menumerate\u001b[0m\u001b[0;34m(\u001b[0m\u001b[0miterable\u001b[0m\u001b[0;34m,\u001b[0m \u001b[0mstart\u001b[0m\u001b[0;34m=\u001b[0m\u001b[0;36m1\u001b[0m\u001b[0;34m)\u001b[0m\u001b[0;34m:\u001b[0m\u001b[0;34m\u001b[0m\u001b[0;34m\u001b[0m\u001b[0m\n\u001b[0m\u001b[1;32m    338\u001b[0m                 \u001b[0;32myield\u001b[0m \u001b[0mx\u001b[0m\u001b[0;34m\u001b[0m\u001b[0;34m\u001b[0m\u001b[0m\n\u001b[1;32m    339\u001b[0m         \u001b[0mtotal\u001b[0m \u001b[0;34m=\u001b[0m \u001b[0mfsum\u001b[0m\u001b[0;34m(\u001b[0m\u001b[0mcount\u001b[0m\u001b[0;34m(\u001b[0m\u001b[0mdata\u001b[0m\u001b[0;34m)\u001b[0m\u001b[0;34m)\u001b[0m\u001b[0;34m\u001b[0m\u001b[0;34m\u001b[0m\u001b[0m\n",
      "\u001b[0;31mTypeError\u001b[0m: 'int' object is not iterable"
     ]
    }
   ],
   "source": [
    "def stat(data):\n",
    "#     print(\"max: \", stats.fmean(data))  \n",
    "#     print(\"min: \",stats.min())  \n",
    "    print(\"mean: \",stats.fmean(data))  \n",
    "    print(\"median: \",stats.median(data))  \n",
    "    print(\"std: \",stats.stdev(data))  \n",
    "#     print(\"10large: \",data.nlargest(10))\n",
    "#     print(\"10small: \",data.nsmallest(10))\n",
    "    print(\"quantile\",stats.quantiles(data, n=6))\n",
    "    \n",
    "for i in range(num_p) :\n",
    "    print(f\"\\nProcess{i}\")\n",
    "    stat(results[i])\n",
    "    "
   ]
  },
  {
   "cell_type": "code",
   "execution_count": 1,
   "metadata": {
    "ExecuteTime": {
     "end_time": "2021-04-25T08:23:20.258693Z",
     "start_time": "2021-04-25T08:23:20.076940Z"
    }
   },
   "outputs": [
    {
     "data": {
      "text/plain": [
       "True"
      ]
     },
     "execution_count": 1,
     "metadata": {},
     "output_type": "execute_result"
    }
   ],
   "source": [
    "from PIL import features\n",
    "features.check_feature(\"libjpeg_turbo\")"
   ]
  },
  {
   "cell_type": "code",
   "execution_count": 1,
   "metadata": {},
   "outputs": [
    {
     "name": "stdout",
     "output_type": "stream",
     "text": [
      "<class 'PIL.Image.Image'>\n",
      "<class '_io.BytesIO'>\n"
     ]
    }
   ],
   "source": [
    "from PIL import Image\n",
    "import io\n",
    "print(type(Image.Image()))\n",
    "print(type(io.BytesIO()))"
   ]
  },
  {
   "cell_type": "code",
   "execution_count": 4,
   "metadata": {
    "ExecuteTime": {
     "end_time": "2021-03-18T02:32:01.562748Z",
     "start_time": "2021-03-18T02:32:01.033730Z"
    }
   },
   "outputs": [],
   "source": [
    "import torch"
   ]
  },
  {
   "cell_type": "code",
   "execution_count": 15,
   "metadata": {
    "ExecuteTime": {
     "end_time": "2021-03-18T02:32:31.592306Z",
     "start_time": "2021-03-18T02:32:31.586056Z"
    }
   },
   "outputs": [
    {
     "data": {
      "text/plain": [
       "tensor([0.9444])"
      ]
     },
     "execution_count": 15,
     "metadata": {},
     "output_type": "execute_result"
    }
   ],
   "source": [
    "torch.rand(1)"
   ]
  },
  {
   "cell_type": "code",
   "execution_count": 16,
   "metadata": {
    "ExecuteTime": {
     "end_time": "2021-03-18T02:32:33.802036Z",
     "start_time": "2021-03-18T02:32:33.795760Z"
    }
   },
   "outputs": [
    {
     "data": {
      "text/plain": [
       "tensor([0.7841])"
      ]
     },
     "execution_count": 16,
     "metadata": {},
     "output_type": "execute_result"
    }
   ],
   "source": [
    "torch.rand(1)\n",
    "    "
   ]
  },
  {
   "cell_type": "code",
   "execution_count": 2,
   "metadata": {},
   "outputs": [],
   "source": [
    "# from multiprocessing import Process, Manager, Barrier\n",
    "# import time, logging, os, copy, pathlib\n",
    "# from PIL import Image\n",
    "# import torchvision.transforms as transforms\n",
    "# logging.basicConfig(level=logging.DEBUG, format='%(asctime)s.%(msecs)03d %(levelname)s:\\t%(message)s', datefmt='%Y-%m-%d %H:%M:%S')\n",
    "# log = logging.getLogger(__name__)\n",
    "# from shared_memory_dict import SharedMemoryDict\n",
    "\n",
    "# def pil_loader(path):\n",
    "#     # open path as file to avoid ResourceWarning (https://github.com/python-pillow/Pillow/issues/835)\n",
    "#     with open(path, 'rb') as f:\n",
    "#         img = Image.open(f)\n",
    "#         return img.convert('RGB')\n",
    "\n",
    "# def f(d,barrier,num):\n",
    "#     barrier.wait()\n",
    "#     log.debug(f\"Start Process{num}\")\n",
    "#     start=time.perf_counter()\n",
    "#     for i in range(256):\n",
    "#         item=d[num+4*i]\n",
    "#     end=time.perf_counter()\n",
    "#     log.debug(f\"End Process{num} Access time: {end-start}\")\n",
    "#     return\n",
    "\n",
    "# num_p = 4\n",
    "\n",
    "# manager1 = Manager()\n",
    "# manager2 = Manager()\n",
    "# manager3 = Manager()\n",
    "# manager4 = Manager()\n",
    "\n",
    "# d = [manager1.dict(),manager2.dict(),manager3.dict(),manager4.dict()]\n",
    "# for i in range(num_p*256):\n",
    "#     path =pathlib.Path(f'/home/chanho/ssd2/1024batch/train/n02364673/{i}.JPEG')\n",
    "#     d[i % 4][i] = pil_loader(path)\n",
    "# barrier=Barrier(num_p)\n",
    "# ps = []\n",
    "# for i in range(num_p):\n",
    "#     p = Process(target=f, args=(d[i % 4],barrier,i))\n",
    "#     ps.append(p)\n",
    "\n",
    "# for p in ps:\n",
    "#     p.start()\n",
    "\n",
    "# for p in ps:\n",
    "#     p.join()"
   ]
  },
  {
   "cell_type": "code",
   "execution_count": 3,
   "metadata": {},
   "outputs": [],
   "source": [
    "# def f(d,barrier,num):\n",
    "#     barrier.wait()\n",
    "#     log.debug(f\"Start Process{num}\")\n",
    "#     start=time.perf_counter()\n",
    "#     for i in range(256):\n",
    "#         item=d[num+4*i]\n",
    "#     end=time.perf_counter()\n",
    "#     log.debug(f\"End Process{num} Access time: {end-start}\")\n",
    "#     return\n",
    "\n",
    "# def pil_loader(path):\n",
    "#     # open path as file to avoid ResourceWarning (https://github.com/python-pillow/Pillow/issues/835)\n",
    "#     with open(path, 'rb') as f:\n",
    "#         img = Image.open(f)\n",
    "#         return img.convert('RGB')\n",
    "\n",
    "# num_p = 4\n",
    "# manager1 = Manager()\n",
    "# manage_dict=manager1.dict()\n",
    "# d = [manage_dict,manage_dict,manage_dict,manage_dict]\n",
    "# for i in range(num_p*256):\n",
    "#     path =pathlib.Path(f'/home/chanho/ssd2/1024batch/train/n02364673/{i}.JPEG')\n",
    "#     d[i % 4][i] = pil_loader(path)\n",
    "# barrier=Barrier(num_p)\n",
    "# ps = []\n",
    "# for i in range(num_p):\n",
    "#     p=Process(target=f, args=(d[i % 4],barrier,i))\n",
    "#     ps.append(p)\n",
    "\n",
    "# for p in ps:\n",
    "#     p.start()\n",
    "\n",
    "# for p in ps:\n",
    "#     p.join()"
   ]
  },
  {
   "cell_type": "code",
   "execution_count": 4,
   "metadata": {},
   "outputs": [],
   "source": [
    "# num_p = 4\n",
    "\n",
    "# d = [{},{},{},{}]\n",
    "# for i in range(num_p*256):\n",
    "#     path =pathlib.Path(f'/home/chanho/ssd2/1024batch/train/n02364673/{i}.JPEG')\n",
    "#     d[i % 4][i] = pil_loader(path)\n",
    "# barrier=Barrier(num_p)\n",
    "# ps = []\n",
    "# for i in range(num_p):\n",
    "#     p=Process(target=f, args=(d[i % 4],barrier,i))\n",
    "#     ps.append(p)\n",
    "\n",
    "# for p in ps:\n",
    "#     p.start()\n",
    "\n",
    "# for p in ps:\n",
    "#     p.join()"
   ]
  },
  {
   "cell_type": "code",
   "execution_count": null,
   "metadata": {},
   "outputs": [],
   "source": [
    "\n",
    "# def shdf(d,barrier,num):\n",
    "#     barrier.wait()\n",
    "#     log.debug(f\"Start Process{num}\")\n",
    "#     start=time.perf_counter()\n",
    "#     item=d[num]\n",
    "#     end=time.perf_counter()\n",
    "#     item_used = item+\"2222\"\n",
    "#     log.debug(f\"End Process{num} Access time: {end-start}\")\n",
    "#     return\n",
    "#     smd = [SharedMemoryDict(name='dataset', size=size),\n",
    "#          SharedMemoryDict(name='dataset', size=size),\n",
    "#          SharedMemoryDict(name='dataset', size=size),\n",
    "#          SharedMemoryDict(name='dataset', size=size)]\n",
    "\n",
    "\n",
    "# dataset_size = 30 # MB;\n",
    "# size = dataset_size * 1024 * 1024\n"
   ]
  }
 ],
 "metadata": {
  "kernelspec": {
   "display_name": "Python 3",
   "language": "python",
   "name": "python3"
  },
  "language_info": {
   "codemirror_mode": {
    "name": "ipython",
    "version": 3
   },
   "file_extension": ".py",
   "mimetype": "text/x-python",
   "name": "python",
   "nbconvert_exporter": "python",
   "pygments_lexer": "ipython3",
   "version": "3.8.8"
  },
  "toc": {
   "base_numbering": 1,
   "nav_menu": {},
   "number_sections": true,
   "sideBar": true,
   "skip_h1_title": false,
   "title_cell": "Table of Contents",
   "title_sidebar": "Contents",
   "toc_cell": false,
   "toc_position": {},
   "toc_section_display": true,
   "toc_window_display": false
  }
 },
 "nbformat": 4,
 "nbformat_minor": 4
}
