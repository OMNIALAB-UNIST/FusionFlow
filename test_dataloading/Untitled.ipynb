{
 "cells": [
  {
   "cell_type": "code",
   "execution_count": 1,
   "id": "00b44d00-d660-4d3e-9c61-7293805747e6",
   "metadata": {},
   "outputs": [
    {
     "name": "stderr",
     "output_type": "stream",
     "text": [
      "2021-09-09 14:40:56.228 INFO:\tStart\n",
      "2021-09-09 14:41:00.271 INFO:\t0 done\n",
      "2021-09-09 14:41:00.273 INFO:\t1 done\n",
      "2021-09-09 14:41:00.273 INFO:\t2 done\n",
      "2021-09-09 14:41:00.273 INFO:\t3 done\n"
     ]
    },
    {
     "name": "stdout",
     "output_type": "stream",
     "text": [
      "4.043965231627226\n"
     ]
    }
   ],
   "source": [
    "from multiprocessing import Process, Event\n",
    "from time import perf_counter, sleep\n",
    "import logging  \n",
    "logging.basicConfig(level=logging.DEBUG, format='%(asctime)s.%(msecs)03d %(levelname)s:\\t%(message)s', datefmt='%Y-%m-%d %H:%M:%S')\n",
    "log = logging.getLogger(__name__)\n",
    "class Worker(Process):\n",
    "\n",
    "    def __init__(self, my_id, caller):\n",
    "        Process.__init__(self)\n",
    "        self.caller = caller\n",
    "        self.my_id = my_id\n",
    "        \n",
    "    def run(self):\n",
    "        for i in range(10000):\n",
    "#             log.info(\"%i started\"%self.my_id)\n",
    "            start = perf_counter()\n",
    "            self.caller.start_flag.wait()\n",
    "            end = perf_counter()\n",
    "#             log.info(f\"flag_overhead: {end-start}\")\n",
    "            task = [i+i for i in range(10000)]\n",
    "#             log.info(\"%i sleeping\"%self.my_id)\n",
    "\n",
    "\n",
    "class ParentProcess(object):\n",
    "\n",
    "    def __init__(self, num_procs):\n",
    "        self.procs = []\n",
    "        self.start_flag = Event()        \n",
    "        for i in range(num_procs):\n",
    "            self.procs.append(Worker(i, self))\n",
    "\n",
    "    def run(self):\n",
    "        for proc in self.procs:\n",
    "            proc.start()\n",
    "#         task = [i+i for i in range(1000)]\n",
    "\n",
    "        self.start_flag.set()\n",
    "        \n",
    "        for proc in self.procs:\n",
    "            proc.join()\n",
    "            log.info(\"%i done\"%proc.my_id)           \n",
    "\n",
    "\n",
    "if __name__ == '__main__':\n",
    "    log.info(\"Start\")\n",
    "    cpus = 4\n",
    "    world = ParentProcess(cpus)\n",
    "    start = perf_counter()\n",
    "    world.run()\n",
    "    end = perf_counter()\n",
    "    runtime = end - start\n",
    "    print(runtime)"
   ]
  },
  {
   "cell_type": "code",
   "execution_count": 14,
   "id": "ff189c07-1697-472b-83d5-bf9a7b7f8247",
   "metadata": {},
   "outputs": [
    {
     "name": "stdout",
     "output_type": "stream",
     "text": [
      "doine\n"
     ]
    }
   ],
   "source": [
    "print(\"doine\")"
   ]
  },
  {
   "cell_type": "code",
   "execution_count": null,
   "id": "60df3269-2461-4c40-b3db-99051a81dc83",
   "metadata": {},
   "outputs": [],
   "source": [
    "3.9499931978061795\n"
   ]
  }
 ],
 "metadata": {
  "kernelspec": {
   "display_name": "Python 3",
   "language": "python",
   "name": "python3"
  },
  "language_info": {
   "codemirror_mode": {
    "name": "ipython",
    "version": 3
   },
   "file_extension": ".py",
   "mimetype": "text/x-python",
   "name": "python",
   "nbconvert_exporter": "python",
   "pygments_lexer": "ipython3",
   "version": "3.8.8"
  }
 },
 "nbformat": 4,
 "nbformat_minor": 5
}
