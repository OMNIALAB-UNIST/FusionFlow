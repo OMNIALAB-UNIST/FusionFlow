{
 "cells": [
  {
   "cell_type": "code",
   "execution_count": 1,
   "id": "8e7d3245-93a7-4850-bd8a-13b87e35f708",
   "metadata": {},
   "outputs": [
    {
     "name": "stdout",
     "output_type": "stream",
     "text": [
      "id: 0, k: 1, i: 0\n",
      "id: 0, k: 2, i: 1\n",
      "id: 0, k: 3, i: 2\n",
      "id: 1, k: 1, i: 0\n",
      "id: 1, k: 2, i: 1\n",
      "id: 1, k: 3, i: 2\n"
     ]
    }
   ],
   "source": [
    "from multiprocessing import Pool, Process, Array, Queue\n",
    "import queue\n",
    " \n",
    "def worker(a, i, k):\n",
    "    a[i] = k\n",
    "    return 'assigned %d' % k\n",
    " \n",
    "# global variable version of worker()\n",
    "def worker_global(i, k):\n",
    "    global a\n",
    "    a[i] = k\n",
    "    return 'assigned %d' % k\n",
    " \n",
    "# complicating version of worker()\n",
    "def worker_consumer(input_queue, id):\n",
    "    while True:\n",
    "        try:\n",
    "            i, k = input_queue.get(block=False)\n",
    "            print(f\"id: {id}, k: {k}, i: {i}\")\n",
    "        except queue.Empty:\n",
    "            break\n",
    " \n",
    "def input_queue_manager(input_queues):\n",
    "    for input_queue in input_queues:\n",
    "        for i in range(3):\n",
    "            input_queue.put((i, i + 1))\n",
    "\n",
    "# global variable injector\n",
    "def init_global_var(v):\n",
    "    global a\n",
    "    a = v\n",
    " \n",
    "if __name__ == '__main__':\n",
    "    # D: equivalent version of C, using Process\n",
    "    # should I write code like this? TOO MUCH CODES\n",
    "    input_queues = [Queue(), Queue()]\n",
    "    \n",
    "    p = Process(target=input_queue_manager, args=(input_queues,))\n",
    "    p.start()\n",
    "    p1 = Process(target=worker_consumer, args=(input_queues[0], 0,))\n",
    "    p2 = Process(target=worker_consumer, args=(input_queues[1], 1,))\n",
    "    p.join()\n",
    "    p1.start()\n",
    "    p2.start()\n",
    "    \n",
    "    p1.join()\n",
    "    p2.join()\n"
   ]
  },
  {
   "cell_type": "code",
   "execution_count": null,
   "id": "d5f0422a-40c2-41be-9784-da1f5991d103",
   "metadata": {},
   "outputs": [],
   "source": []
  }
 ],
 "metadata": {
  "kernelspec": {
   "display_name": "Python 3",
   "language": "python",
   "name": "python3"
  },
  "language_info": {
   "codemirror_mode": {
    "name": "ipython",
    "version": 3
   },
   "file_extension": ".py",
   "mimetype": "text/x-python",
   "name": "python",
   "nbconvert_exporter": "python",
   "pygments_lexer": "ipython3",
   "version": "3.8.8"
  }
 },
 "nbformat": 4,
 "nbformat_minor": 5
}
