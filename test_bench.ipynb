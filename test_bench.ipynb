{
 "cells": [
  {
   "cell_type": "code",
   "execution_count": 7,
   "metadata": {},
   "outputs": [
    {
     "name": "stdout",
     "output_type": "stream",
     "text": [
      "[<pynvml.LP_struct_c_nvmlDevice_t object at 0x7f1f13f4a440>, <pynvml.LP_struct_c_nvmlDevice_t object at 0x7f1f13f4a6c0>, <pynvml.LP_struct_c_nvmlDevice_t object at 0x7f1f13f4a740>, <pynvml.LP_struct_c_nvmlDevice_t object at 0x7f1f13f4a7c0>, <pynvml.LP_struct_c_nvmlDevice_t object at 0x7f1f13f4a840>, <pynvml.LP_struct_c_nvmlDevice_t object at 0x7f1f13f4a940>, <pynvml.LP_struct_c_nvmlDevice_t object at 0x7f1f13f4a9c0>, <pynvml.LP_struct_c_nvmlDevice_t object at 0x7f1f13f4aa40>]\n",
      "0,0,0,0,0,0,0,0,\n",
      "0,0,0,0,0,0,0,0,\n",
      "0,0,0,0,0,0,0,0,\n",
      "0,0,0,0,0,0,0,0,\n",
      "0,0,0,0,0,0,0,0,\n",
      "0,0,0,0,0,0,0,0,\n",
      "0,0,0,0,0,0,0,0,\n",
      "0,0,0,0,0,0,0,0,\n",
      "0,0,0,0,0,0,0,0,\n",
      "0,0,0,0,0,0,0,0,\n"
     ]
    }
   ],
   "source": [
    "from time import perf_counter, sleep\n",
    "import pynvml \n",
    "from datetime import datetime\n",
    "pynvml.nvmlInit()\n",
    "handle = pynvml.nvmlDeviceGetHandleByIndex(0)\n",
    "util = pynvml.nvmlDeviceGetUtilizationRates(handle)\n",
    "import sys\n",
    "\n",
    "file_dir = sys.argv[1]\n",
    "\n",
    "DELAY=0.01\n",
    "DEVICE_NUM=pynvml.nvmlDeviceGetCount()\n",
    "\n",
    "f = open(f\"./gpu_util.csv\", 'w')\n",
    "\n",
    "handles = []\n",
    "f.write(f'timestamp,')\n",
    "for i in range(DEVICE_NUM):\n",
    "    handles.append(pynvml.nvmlDeviceGetHandleByIndex(i))\n",
    "    f.write(f'GPU{i},')\n",
    "f.write(\"\\n\")\n",
    "\n",
    "print(handles)\n",
    "\n",
    "for j in range(10):\n",
    "    f.write(datetime.now().strftime('%Y-%m-%d %H:%M:%S.%f')+\",\")\n",
    "    for i in range(DEVICE_NUM):\n",
    "        # start = perf_counter()\n",
    "        util = pynvml.nvmlDeviceGetUtilizationRates(handles[i])\n",
    "        f.write(f'{util.gpu},')\n",
    "    f.write(\"\\n\")\n",
    "    sleep(DELAY)\n",
    "    \n",
    "f.close()"
   ]
  },
  {
   "cell_type": "code",
   "execution_count": 48,
   "metadata": {},
   "outputs": [
    {
     "name": "stdout",
     "output_type": "stream",
     "text": [
      "8\n"
     ]
    }
   ],
   "source": [
    "print(pynvml.nvmlDeviceGetCount())"
   ]
  },
  {
   "cell_type": "code",
   "execution_count": 54,
   "metadata": {},
   "outputs": [
    {
     "name": "stdout",
     "output_type": "stream",
     "text": [
      "util: 0 time:0.0011205244809389114\n",
      "util: 0 time:0.000685499981045723\n",
      "util: 0 time:0.0006949510425329208\n",
      "util: 0 time:0.0006819721311330795\n",
      "util: 0 time:0.0006786994636058807\n",
      "util: 0 time:0.0006731506437063217\n",
      "util: 0 time:0.0006817243993282318\n",
      "util: 0 time:0.0006724987179040909\n",
      "util: 0 time:0.0006817765533924103\n",
      "util: 0 time:0.0006692800670862198\n"
     ]
    }
   ],
   "source": [
    "# print(display_util())\n",
    "\n",
    "from time import perf_counter\n",
    "\n",
    "handle = pynvml.nvmlDeviceGetHandleByIndex(1)\n",
    "for i in range(10):\n",
    "    start = perf_counter()\n",
    "    util = pynvml.nvmlDeviceGetUtilizationRates(handle)\n",
    "    memory=getattr(util, 'gpu')\n",
    "    end = perf_counter()\n",
    "    print(f\"util: {memory} time:{end-start}\")"
   ]
  },
  {
   "cell_type": "code",
   "execution_count": 8,
   "metadata": {},
   "outputs": [
    {
     "name": "stdout",
     "output_type": "stream",
     "text": [
      "timestamp,GPU0,GPU1,GPU2,GPU3,GPU4,GPU5,GPU6,GPU7,\n",
      "2021-12-17 20:59:31.7526750,0,0,0,0,0,0,0,\n",
      "2021-12-17 20:59:31.7602410,0,0,0,0,0,0,0,\n"
     ]
    }
   ],
   "source": [
    "from time import perf_counter, sleep\n",
    "import pynvml \n",
    "from datetime import datetime\n",
    "pynvml.nvmlInit()\n",
    "handle = pynvml.nvmlDeviceGetHandleByIndex(0)\n",
    "util = pynvml.nvmlDeviceGetUtilizationRates(handle)\n",
    "\n",
    "DELAY=0.001\n",
    "DEVICE_NUM=pynvml.nvmlDeviceGetCount()\n",
    "handles = []\n",
    "print(f'timestamp,', end=\"\")\n",
    "for i in range(DEVICE_NUM):\n",
    "    handles.append(pynvml.nvmlDeviceGetHandleByIndex(i))\n",
    "    print(f'GPU{i},', end=\"\")\n",
    "print(\"\")\n",
    "for j in range(2):\n",
    "    print(datetime.now().strftime('%Y-%m-%d %H:%M:%S.%f'), end=\"\")\n",
    "    for i in range(DEVICE_NUM):\n",
    "        # start = perf_counter()\n",
    "        util = pynvml.nvmlDeviceGetUtilizationRates(handles[i])\n",
    "        gpu_utility=getattr(util, 'gpu')\n",
    "        print(f'{gpu_utility},', end=\"\")\n",
    "    print(\"\")\n",
    "    # sleep(DELAY)"
   ]
  }
 ],
 "metadata": {
  "interpreter": {
   "hash": "a3b83431d000da8685651b5c9e507050afba31284d34f48c5ad02e197c273707"
  },
  "kernelspec": {
   "display_name": "Python 3.8.8 64-bit ('torchtest': conda)",
   "name": "python3"
  },
  "language_info": {
   "codemirror_mode": {
    "name": "ipython",
    "version": 3
   },
   "file_extension": ".py",
   "mimetype": "text/x-python",
   "name": "python",
   "nbconvert_exporter": "python",
   "pygments_lexer": "ipython3",
   "version": "3.8.8"
  },
  "toc": {
   "base_numbering": 1,
   "nav_menu": {},
   "number_sections": true,
   "sideBar": true,
   "skip_h1_title": false,
   "title_cell": "Table of Contents",
   "title_sidebar": "Contents",
   "toc_cell": false,
   "toc_position": {},
   "toc_section_display": true,
   "toc_window_display": false
  }
 },
 "nbformat": 4,
 "nbformat_minor": 4
}
