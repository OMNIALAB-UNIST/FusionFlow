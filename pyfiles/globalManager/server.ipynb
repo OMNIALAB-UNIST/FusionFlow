{
 "cells": [
  {
   "cell_type": "code",
   "execution_count": 1,
   "id": "supposed-german",
   "metadata": {
    "ExecuteTime": {
     "end_time": "2021-07-02T09:54:35.306049Z",
     "start_time": "2021-07-02T09:54:35.284575Z"
    },
    "hide_input": false
   },
   "outputs": [
    {
     "name": "stderr",
     "output_type": "stream",
     "text": [
      "2021-10-12 15:53:20.044 DEBUG:\tglobal controller: worker_info size: 96\n",
      "2021-10-12 15:53:20.045 DEBUG:\tglobal controller: feedback_info size: 104\n",
      "2021-10-12 15:53:20.045 DEBUG:\tglobal controller: progress_info size: 16\n",
      "2021-10-12 15:53:20.046 DEBUG:\tglobal controller: worker_info size: 96\n",
      "2021-10-12 15:53:20.046 DEBUG:\tglobal controller: feedback_info size: 104\n",
      "2021-10-12 15:53:20.046 DEBUG:\tglobal controller: progress_info size: 16\n",
      "2021-10-12 15:53:20.047 DEBUG:\tglobal controller: worker_info size: 96\n",
      "2021-10-12 15:53:20.047 DEBUG:\tglobal controller: feedback_info size: 104\n",
      "2021-10-12 15:53:20.047 DEBUG:\tglobal controller: progress_info size: 16\n",
      "2021-10-12 15:53:20.048 DEBUG:\tglobal controller: worker_info size: 96\n",
      "2021-10-12 15:53:20.048 DEBUG:\tglobal controller: feedback_info size: 104\n",
      "2021-10-12 15:53:20.048 DEBUG:\tglobal controller: progress_info size: 16\n",
      "2021-10-12 15:53:20.049 DEBUG:\tglobal controller: worker_info size: 96\n",
      "2021-10-12 15:53:20.049 DEBUG:\tglobal controller: feedback_info size: 104\n",
      "2021-10-12 15:53:20.049 DEBUG:\tglobal controller: progress_info size: 16\n",
      "2021-10-12 15:53:20.050 DEBUG:\tglobal controller: worker_info size: 96\n",
      "2021-10-12 15:53:20.050 DEBUG:\tglobal controller: feedback_info size: 104\n",
      "2021-10-12 15:53:20.050 DEBUG:\tglobal controller: progress_info size: 16\n",
      "2021-10-12 15:53:20.051 DEBUG:\tglobal controller: worker_info size: 96\n",
      "2021-10-12 15:53:20.051 DEBUG:\tglobal controller: feedback_info size: 104\n",
      "2021-10-12 15:53:20.051 DEBUG:\tglobal controller: progress_info size: 16\n",
      "2021-10-12 15:53:20.052 DEBUG:\tglobal controller: worker_info size: 96\n",
      "2021-10-12 15:53:20.052 DEBUG:\tglobal controller: feedback_info size: 104\n",
      "2021-10-12 15:53:20.052 DEBUG:\tglobal controller: progress_info size: 16\n",
      "2021-10-12 15:53:20.053 DEBUG:\tGlobal Controller Execute Info Server\n"
     ]
    },
    {
     "name": "stdout",
     "output_type": "stream",
     "text": [
      "Nodemax: 1\n"
     ]
    },
    {
     "name": "stderr",
     "output_type": "stream",
     "text": [
      "2021-10-12 15:53:26.253 DEBUG:\tGlobal Controller GPU0: progress_info=[0 1]\n",
      "2021-10-12 15:53:26.359 DEBUG:\tGlobal Controller GPU0: progress_info=[0 5]\n",
      "2021-10-12 15:53:26.458 DEBUG:\tGlobal Controller GPU0: progress_info=[1 1]\n",
      "2021-10-12 15:53:27.458 DEBUG:\tGlobal Controller: Receive Stop signal\n"
     ]
    }
   ],
   "source": [
    "import shared_memory as gcn\n",
    "\n",
    "# feedback = gcn.feedBackController(rank=1,world_size=1,localport=50000)\n",
    "test = gcn.globalController(num_workers=2)\n",
    "test.Server()"
   ]
  },
  {
   "cell_type": "code",
   "execution_count": null,
   "id": "98638dc9-30b2-4c5d-b468-98a982db468b",
   "metadata": {},
   "outputs": [],
   "source": []
  },
  {
   "cell_type": "code",
   "execution_count": null,
   "id": "horizontal-highlight",
   "metadata": {},
   "outputs": [],
   "source": []
  }
 ],
 "metadata": {
  "interpreter": {
   "hash": "e3ce3fbceb464fba96ea10ab322696e4925ec5599a979a26c56d90ff07e466ab"
  },
  "kernelspec": {
   "display_name": "Python 3",
   "language": "python",
   "name": "python3"
  },
  "language_info": {
   "codemirror_mode": {
    "name": "ipython",
    "version": 3
   },
   "file_extension": ".py",
   "mimetype": "text/x-python",
   "name": "python",
   "nbconvert_exporter": "python",
   "pygments_lexer": "ipython3",
   "version": "3.8.8"
  },
  "toc": {
   "base_numbering": 1,
   "nav_menu": {},
   "number_sections": true,
   "sideBar": true,
   "skip_h1_title": false,
   "title_cell": "Table of Contents",
   "title_sidebar": "Contents",
   "toc_cell": false,
   "toc_position": {},
   "toc_section_display": true,
   "toc_window_display": false
  }
 },
 "nbformat": 4,
 "nbformat_minor": 5
}
