{
 "cells": [
  {
   "cell_type": "code",
   "execution_count": 1,
   "id": "opposed-driver",
   "metadata": {
    "ExecuteTime": {
     "end_time": "2021-07-02T09:54:35.306049Z",
     "start_time": "2021-07-02T09:54:35.284575Z"
    },
    "hide_input": false
   },
   "outputs": [
    {
     "name": "stderr",
     "output_type": "stream",
     "text": [
      "2021-07-02 18:54:35.305 DEBUG:\tExecute Info Server\n",
      "2021-07-02 18:54:38.727 DEBUG:\tconnection accepted from ('127.0.0.1', 43050)\n",
      "2021-07-02 18:54:38.729 DEBUG:\tInfo Server recv\n",
      "2021-07-02 18:54:38.768 DEBUG:\tProcessing info\n",
      "2021-07-02 18:54:38.769 DEBUG:\t{1: 4}\n",
      "2021-07-02 18:54:38.770 DEBUG:\tInfo Server recv\n",
      "2021-07-02 18:54:38.772 DEBUG:\tProcessing info\n",
      "2021-07-02 18:54:38.774 DEBUG:\t{1: 4, 2: 4}\n",
      "2021-07-02 18:54:38.775 DEBUG:\tInfo Server recv\n",
      "2021-07-02 18:54:38.776 DEBUG:\tProcessing info\n",
      "2021-07-02 18:54:38.778 DEBUG:\t{1: {0: (1, 1), 1: (1, 2)}}\n",
      "2021-07-02 18:54:38.779 DEBUG:\tInfo Server recv\n",
      "Process Process-1:\n",
      "Traceback (most recent call last):\n",
      "  File \"/home/chanho/anaconda3/envs/torchtest/lib/python3.8/multiprocessing/process.py\", line 315, in _bootstrap\n",
      "    self.run()\n",
      "  File \"/home/chanho/anaconda3/envs/torchtest/lib/python3.8/multiprocessing/process.py\", line 108, in run\n",
      "    self._target(*self._args, **self._kwargs)\n",
      "  File \"/home/chanho/pytorch_dataloading_benchmark/reimplement-ds-analyzer/pyfiles/globalController/native.py\", line 27, in server\n",
      "    msg = conn.recv()\n",
      "  File \"/home/chanho/anaconda3/envs/torchtest/lib/python3.8/multiprocessing/connection.py\", line 250, in recv\n",
      "    buf = self._recv_bytes()\n",
      "  File \"/home/chanho/anaconda3/envs/torchtest/lib/python3.8/multiprocessing/connection.py\", line 414, in _recv_bytes\n",
      "    buf = self._recv(4)\n",
      "  File \"/home/chanho/anaconda3/envs/torchtest/lib/python3.8/multiprocessing/connection.py\", line 383, in _recv\n",
      "    raise EOFError\n",
      "EOFError\n"
     ]
    }
   ],
   "source": [
    "import native as gcn\n",
    "\n",
    "# feedback = gcn.feedBackController(rank=1,world_size=1,localport=50000)\n",
    "gcn.globalController(1,1,4)"
   ]
  },
  {
   "cell_type": "code",
   "execution_count": null,
   "id": "sublime-henry",
   "metadata": {
    "ExecuteTime": {
     "end_time": "2021-07-02T09:49:39.739109Z",
     "start_time": "2021-07-02T09:49:39.733062Z"
    }
   },
   "outputs": [],
   "source": []
  },
  {
   "cell_type": "code",
   "execution_count": null,
   "id": "nearby-objective",
   "metadata": {},
   "outputs": [],
   "source": []
  }
 ],
 "metadata": {
  "kernelspec": {
   "display_name": "Python 3",
   "language": "python",
   "name": "python3"
  },
  "language_info": {
   "codemirror_mode": {
    "name": "ipython",
    "version": 3
   },
   "file_extension": ".py",
   "mimetype": "text/x-python",
   "name": "python",
   "nbconvert_exporter": "python",
   "pygments_lexer": "ipython3",
   "version": "3.8.8"
  },
  "toc": {
   "base_numbering": 1,
   "nav_menu": {},
   "number_sections": true,
   "sideBar": true,
   "skip_h1_title": false,
   "title_cell": "Table of Contents",
   "title_sidebar": "Contents",
   "toc_cell": false,
   "toc_position": {},
   "toc_section_display": true,
   "toc_window_display": false
  }
 },
 "nbformat": 4,
 "nbformat_minor": 5
}
