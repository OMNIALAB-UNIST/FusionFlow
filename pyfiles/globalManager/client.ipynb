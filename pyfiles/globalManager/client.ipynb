{
 "cells": [
  {
   "cell_type": "code",
   "execution_count": 1,
   "id": "charitable-representation",
   "metadata": {
    "ExecuteTime": {
     "end_time": "2021-07-02T09:54:38.729190Z",
     "start_time": "2021-07-02T09:54:38.721259Z"
    }
   },
   "outputs": [
    {
     "name": "stderr",
     "output_type": "stream",
     "text": [
      "2021-10-12 15:53:26.148 INFO:\tLoad Shared Memory\n",
      "2021-10-12 15:53:26.149 DEBUG:\tglobalHelper worker_info size: 96\n",
      "2021-10-12 15:53:26.149 DEBUG:\tglobalHelper progress_info size: 16\n",
      "2021-10-12 15:53:26.150 DEBUG:\ttype: progress_info_dirty\n",
      "2021-10-12 15:53:26.150 DEBUG:\tglobalHelper feedback_info size: 104\n",
      "2021-10-12 15:53:26.150 DEBUG:\ttype: feedback_info_dirty\n",
      "2021-10-12 15:53:26.151 DEBUG:\ttype: stop_siginal\n",
      "2021-10-12 15:53:26.251 DEBUG:\tGlobal Controller Helper GPU0: progress_info=[0 1]\n",
      "2021-10-12 15:53:26.352 DEBUG:\tGlobal Controller Helper GPU0: progress_info=[0 5]\n",
      "2021-10-12 15:53:26.453 DEBUG:\tGlobal Controller Helper GPU0: progress_info=[1 1]\n",
      "2021-10-12 15:53:27.454 DEBUG:\tGlobal Controller Helper GPU0: Send Stop signal\n"
     ]
    }
   ],
   "source": [
    "import shared_memory as gcn\n",
    "import multiprocessing\n",
    "from time import sleep\n",
    "Helper = gcn.globalControllerHelper(rank = 0)    \n",
    "\n",
    "sleep(0.1)\n",
    "Helper.Send(current_batch=0,micro_batch_num=1)\n",
    "sleep(0.1)\n",
    "Helper.Send(current_batch=0,micro_batch_num=5)\n",
    "sleep(0.1)\n",
    "Helper.Send(current_batch=1,micro_batch_num=1)\n",
    "sleep(1)\n",
    "Helper.Close()"
   ]
  },
  {
   "cell_type": "code",
   "execution_count": 2,
   "id": "sacred-category",
   "metadata": {},
   "outputs": [],
   "source": [
    "# import shared_memory as gcn\n",
    "# import multiprocessing\n",
    "# from time import sleep\n",
    "# Helper = gcn.globalControllerHelper(rank = 0)    \n",
    "\n",
    "# print(Helper.Recv())\n",
    "# sleep(0.1)\n",
    "# print(Helper.Recv())\n",
    "# sleep(0.1)\n",
    "# print(Helper.Recv())\n",
    "# sleep(1)\n",
    "# Helper.Close()"
   ]
  }
 ],
 "metadata": {
  "interpreter": {
   "hash": "e3ce3fbceb464fba96ea10ab322696e4925ec5599a979a26c56d90ff07e466ab"
  },
  "kernelspec": {
   "display_name": "Python 3",
   "language": "python",
   "name": "python3"
  },
  "language_info": {
   "codemirror_mode": {
    "name": "ipython",
    "version": 3
   },
   "file_extension": ".py",
   "mimetype": "text/x-python",
   "name": "python",
   "nbconvert_exporter": "python",
   "pygments_lexer": "ipython3",
   "version": "3.8.8"
  },
  "toc": {
   "base_numbering": 1,
   "nav_menu": {},
   "number_sections": true,
   "sideBar": true,
   "skip_h1_title": false,
   "title_cell": "Table of Contents",
   "title_sidebar": "Contents",
   "toc_cell": false,
   "toc_position": {},
   "toc_section_display": true,
   "toc_window_display": false
  }
 },
 "nbformat": 4,
 "nbformat_minor": 5
}
