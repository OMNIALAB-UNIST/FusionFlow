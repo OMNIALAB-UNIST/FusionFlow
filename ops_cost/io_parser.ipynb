{
 "cells": [
  {
   "cell_type": "code",
   "execution_count": null,
   "id": "9ab649d0-6251-4c6c-b0c7-6130cad956a5",
   "metadata": {},
   "outputs": [],
   "source": [
    "\n",
    "image_df = pd.DataFrame(image_size_log,\n",
    "                    columns=col_name)\n",
    "os.makedirs(f'{parsed_dir}',exist_ok=True)\n",
    "image_df.to_csv(f'{parsed_dir}/{image_size}.csv', sep=',')\n",
    "\n",
    "dataset_col_name = [\"Image size (KB)\"] + col_name\n",
    "\n",
    "dir_names = glob.glob(f'{parsed_dir}/*.csv')\n",
    "\n",
    "total_log = []\n",
    "for logdir in dir_names:\n",
    "    file_name = logdir.split('/')[-1]\n",
    "    image_size = file_name.replace('.csv','')\n",
    "\n",
    "    df = pd.read_csv(\n",
    "        f\"./{parsed_dir}/{file_name}\", index_col=None)\n",
    "    df = df*1000\n",
    "    total_loglet = {\"Image size (KB)\":image_size}\n",
    "    \n",
    "    for col in col_name:\n",
    "        aug_df = df[col].dropna() \n",
    "        total_loglet[col] = f'{round(aug_df.mean(),2)}'\n",
    "        \n",
    "    total_log.append(total_loglet)\n",
    "\n",
    "avg_df = pd.DataFrame(total_log,\n",
    "                  columns=dataset_col_name)\n",
    "avg_df.dropna().to_csv(f\"./io_total_summary.csv\",\n",
    "                   sep=',', na_rep='NA')\n"
   ]
  },
  {
   "cell_type": "code",
   "execution_count": null,
   "id": "44ce47dc-cd1c-47cc-872c-4fe560c1d794",
   "metadata": {},
   "outputs": [],
   "source": [
    "\n",
    "image_df = pd.DataFrame(image_size_log,\n",
    "                    columns=col_name)\n",
    "os.makedirs(f'{parsed_dir}',exist_ok=True)\n",
    "image_df.to_csv(f'{parsed_dir}/{image_size}.csv', sep=',')\n",
    "\n",
    "dataset_col_name = [\"Image size (KB)\"] + col_name\n",
    "\n",
    "dir_names = glob.glob(f'{parsed_dir}/*.csv')\n",
    "\n",
    "total_log = []\n",
    "for logdir in dir_names:\n",
    "    file_name = logdir.split('/')[-1]\n",
    "    image_size = file_name.replace('.csv','')\n",
    "\n",
    "    df = pd.read_csv(\n",
    "        f\"./{parsed_dir}/{file_name}\", index_col=None)\n",
    "    df = df*1000\n",
    "    total_loglet = {\"Image size (KB)\":image_size}\n",
    "    \n",
    "    for col in col_name:\n",
    "        aug_df = df[col].dropna() \n",
    "        total_loglet[col] = f'{round(aug_df.mean(),2)}'\n",
    "        \n",
    "    total_log.append(total_loglet)\n",
    "\n",
    "avg_df = pd.DataFrame(total_log,\n",
    "                  columns=dataset_col_name)\n",
    "avg_df.dropna().to_csv(f\"./io_total_summary.csv\",\n",
    "                   sep=',', na_rep='NA')\n"
   ]
  },
  {
   "cell_type": "code",
   "execution_count": null,
   "id": "8828f8ae-ddf8-418b-a341-f3f0ca26517d",
   "metadata": {},
   "outputs": [],
   "source": []
  }
 ],
 "metadata": {
  "kernelspec": {
   "display_name": "Python 3",
   "language": "python",
   "name": "python3"
  },
  "language_info": {
   "codemirror_mode": {
    "name": "ipython",
    "version": 3
   },
   "file_extension": ".py",
   "mimetype": "text/x-python",
   "name": "python",
   "nbconvert_exporter": "python",
   "pygments_lexer": "ipython3",
   "version": "3.8.8"
  }
 },
 "nbformat": 4,
 "nbformat_minor": 5
}
